{
 "cells": [
  {
   "cell_type": "markdown",
   "metadata": {
    "id": "R2Aw6UeAAA0j"
   },
   "source": [
    "\n",
    " Numpy\n",
    "  - Vectorization\n",
    "  - Boardcast\n",
    "  - Identify Matrix\n",
    "  - Indexing and Slicing\n",
    "  - Fancy Array\n",
    "  - Reduction Operation"
   ]
  },
  {
   "cell_type": "markdown",
   "metadata": {
    "id": "sm2ka4lprn1-"
   },
   "source": [
    "# Basic Section (Start)\n"
   ]
  },
  {
   "cell_type": "markdown",
   "metadata": {},
   "source": []
  },
  {
   "cell_type": "code",
   "execution_count": 1,
   "metadata": {
    "id": "ekC5lhEacpKu"
   },
   "outputs": [],
   "source": [
    "import numpy as np"
   ]
  },
  {
   "cell_type": "markdown",
   "metadata": {
    "id": "BJ0zt3V0cpKv"
   },
   "source": [
    "## Numpy (Review)\n",
    "\n",
    "Main object type is `np.array`\n",
    "\n",
    "Many ways to create it,\n",
    "\n",
    "One way is to convert a python list"
   ]
  },
  {
   "cell_type": "code",
   "execution_count": 2,
   "metadata": {
    "colab": {
     "base_uri": "https://localhost:8080/"
    },
    "id": "xIO3lTj-cpKx",
    "outputId": "a3a6657f-05eb-4f46-e053-78ce932cf3a2"
   },
   "outputs": [
    {
     "data": {
      "text/plain": [
       "array([1, 2, 3])"
      ]
     },
     "execution_count": 2,
     "metadata": {},
     "output_type": "execute_result"
    }
   ],
   "source": [
    "python_list = [1, 2, 3]\n",
    "arr = np.array(python_list)\n",
    "arr"
   ]
  },
  {
   "cell_type": "code",
   "execution_count": 3,
   "metadata": {
    "colab": {
     "base_uri": "https://localhost:8080/"
    },
    "id": "pc4i2a416Z5M",
    "outputId": "96388ab6-3a8e-46fa-e7bf-b8e7bb047869"
   },
   "outputs": [
    {
     "data": {
      "text/plain": [
       "array([1, 4, 9])"
      ]
     },
     "execution_count": 3,
     "metadata": {},
     "output_type": "execute_result"
    }
   ],
   "source": [
    "arr**2"
   ]
  },
  {
   "cell_type": "code",
   "execution_count": 4,
   "metadata": {
    "colab": {
     "base_uri": "https://localhost:8080/",
     "height": 163
    },
    "id": "LDX_ymhAKp8I",
    "outputId": "4987a17a-ef5a-49db-d477-634527aa6217"
   },
   "outputs": [
    {
     "ename": "TypeError",
     "evalue": "unsupported operand type(s) for ** or pow(): 'list' and 'int'",
     "output_type": "error",
     "traceback": [
      "\u001b[31m---------------------------------------------------------------------------\u001b[39m",
      "\u001b[31mTypeError\u001b[39m                                 Traceback (most recent call last)",
      "\u001b[36mCell\u001b[39m\u001b[36m \u001b[39m\u001b[32mIn[4]\u001b[39m\u001b[32m, line 1\u001b[39m\n\u001b[32m----> \u001b[39m\u001b[32m1\u001b[39m python_list**\u001b[32m2\u001b[39m\n",
      "\u001b[31mTypeError\u001b[39m: unsupported operand type(s) for ** or pow(): 'list' and 'int'"
     ]
    }
   ],
   "source": [
    "python_list**2 #__pow__"
   ]
  },
  {
   "cell_type": "code",
   "execution_count": null,
   "metadata": {
    "id": "cEIaZrB0US0q"
   },
   "outputs": [],
   "source": [
    "# class.function(self, args) = instance.function(args)"
   ]
  },
  {
   "cell_type": "code",
   "execution_count": 6,
   "metadata": {
    "colab": {
     "base_uri": "https://localhost:8080/",
     "height": 198
    },
    "id": "2yasABN8J8z8",
    "outputId": "2eff2da7-aa4d-4cb7-994f-65d2d56d623d"
   },
   "outputs": [
    {
     "ename": "AttributeError",
     "evalue": "'list' object has no attribute '__pow__'",
     "output_type": "error",
     "traceback": [
      "\u001b[31m---------------------------------------------------------------------------\u001b[39m",
      "\u001b[31mAttributeError\u001b[39m                            Traceback (most recent call last)",
      "\u001b[36mCell\u001b[39m\u001b[36m \u001b[39m\u001b[32mIn[6]\u001b[39m\u001b[32m, line 3\u001b[39m\n\u001b[32m      1\u001b[39m \u001b[38;5;66;03m# Magic Function with __XXX__\u001b[39;00m\n\u001b[32m      2\u001b[39m \u001b[38;5;66;03m# arr.__pow__(2)\u001b[39;00m\n\u001b[32m----> \u001b[39m\u001b[32m3\u001b[39m python_list.\u001b[34m__pow__\u001b[39m(\u001b[32m2\u001b[39m)\n",
      "\u001b[31mAttributeError\u001b[39m: 'list' object has no attribute '__pow__'"
     ]
    }
   ],
   "source": [
    "# Magic Function with __XXX__\n",
    "# arr.__pow__(2)\n",
    "python_list.__pow__(2)"
   ]
  },
  {
   "cell_type": "markdown",
   "metadata": {
    "id": "Du3Lpmi-cpKz"
   },
   "source": [
    "Many times a list comprehension is used to create a list and then converted to a array"
   ]
  },
  {
   "cell_type": "code",
   "execution_count": 5,
   "metadata": {
    "colab": {
     "base_uri": "https://localhost:8080/"
    },
    "id": "4Xz0VGT0cpKz",
    "outputId": "6cfd53a6-6809-4629-a5d9-052c8a781c53"
   },
   "outputs": [
    {
     "data": {
      "text/plain": [
       "[1, 4, 9]"
      ]
     },
     "execution_count": 5,
     "metadata": {},
     "output_type": "execute_result"
    }
   ],
   "source": [
    "python_list_pow = [i**2 for i in python_list]  # list comprehension\n",
    "python_list_pow"
   ]
  },
  {
   "cell_type": "code",
   "execution_count": 10,
   "metadata": {
    "colab": {
     "base_uri": "https://localhost:8080/"
    },
    "id": "aFu-SnfbMnfk",
    "outputId": "813428f1-286c-453e-96e8-d2a6f07d9cb1"
   },
   "outputs": [
    {
     "name": "stdout",
     "output_type": "stream",
     "text": [
      "Original list: [1, 2, 3]\n",
      "I am called __pow___ for powerlist\n",
      "List to the power of 2: [1, 8, 27]\n"
     ]
    }
   ],
   "source": [
    "# Extend the behavior of built-in class use inheritance\n",
    "# not directly changing it\n",
    "class PowerList(list):\n",
    "    def __pow__(self, exponent):\n",
    "        print(\"I am called __pow___ for powerlist\")\n",
    "        if not isinstance(exponent, int):\n",
    "            raise ValueError(\"Exponent must be an integer\")\n",
    "        return [i**exponent for i in self]      #you do it wrong! -cartman\n",
    "\n",
    "my_list = PowerList()\n",
    "my_list.extend([1,2,3])\n",
    "print(\"Original list:\", my_list)\n",
    "\n",
    "powered_list = my_list ** 3\n",
    "print(\"List to the power of 2:\", powered_list)\n"
   ]
  },
  {
   "cell_type": "markdown",
   "metadata": {
    "id": "U1acF_mOcpK2"
   },
   "source": [
    "### Exercise (Pre-Lec)\n",
    "Create a numpy array that contain  intergers i  such that  0<i<100 and $2^i$ has the last digit 6"
   ]
  },
  {
   "cell_type": "code",
   "execution_count": 13,
   "metadata": {
    "colab": {
     "base_uri": "https://localhost:8080/"
    },
    "id": "1B0gVXMSbsoU",
    "outputId": "7bb5b155-e2a3-4c3b-98cd-eb07e2631ae5"
   },
   "outputs": [
    {
     "name": "stdout",
     "output_type": "stream",
     "text": [
      "[ 4  8 12 16 20 24 28 32 36 40 44 48 52 56 60 64 68 72 76 80 84 88 92 96]\n"
     ]
    }
   ],
   "source": [
    "list1 = [i for i in range(1,100) if (2**i)%10 == 6]\n",
    "arr1 = np.array(list1)\n",
    "print(arr1)"
   ]
  },
  {
   "cell_type": "markdown",
   "metadata": {
    "id": "c0fMYyztcpK3"
   },
   "source": [
    "Create a 2D numpy array $A$ (5,10) such that $A_{ij} = i\\times j$"
   ]
  },
  {
   "cell_type": "code",
   "execution_count": 18,
   "metadata": {
    "colab": {
     "base_uri": "https://localhost:8080/"
    },
    "id": "ObzFUe3GbtCk",
    "outputId": "005909c0-52e2-4b56-ed1d-68d25b32cc52"
   },
   "outputs": [
    {
     "name": "stdout",
     "output_type": "stream",
     "text": [
      "[[ 1  2  3  4  5  6  7  8  9 10]\n",
      " [ 2  4  6  8 10 12 14 16 18 20]\n",
      " [ 3  6  9 12 15 18 21 24 27 30]\n",
      " [ 4  8 12 16 20 24 28 32 36 40]\n",
      " [ 5 10 15 20 25 30 35 40 45 50]]\n"
     ]
    }
   ],
   "source": [
    "arr2 = np.arange(1,6).reshape(-1, 1) * np.arange(1, 11)\n",
    "print(arr2)"
   ]
  },
  {
   "cell_type": "markdown",
   "metadata": {
    "id": "Clx3TzpdcpK7"
   },
   "source": [
    "## Another way to create a numpy array is with initializing functions\n",
    "\n",
    "- np.zeros\n",
    "- np.ones\n",
    "- np.arange\n",
    "\n",
    "These functions along with `reshape` can be used to create initial matrix without any for loops"
   ]
  },
  {
   "cell_type": "code",
   "execution_count": 19,
   "metadata": {
    "colab": {
     "base_uri": "https://localhost:8080/"
    },
    "id": "Q_MicPfVcpK7",
    "outputId": "c805d4ab-47c2-402f-fd1c-7340f079c174"
   },
   "outputs": [
    {
     "data": {
      "text/plain": [
       "array([[0., 0., 0., 0., 0., 0., 0., 0., 0., 0.],\n",
       "       [0., 0., 0., 0., 0., 0., 0., 0., 0., 0.],\n",
       "       [0., 0., 0., 0., 0., 0., 0., 0., 0., 0.],\n",
       "       [0., 0., 0., 0., 0., 0., 0., 0., 0., 0.],\n",
       "       [0., 0., 0., 0., 0., 0., 0., 0., 0., 0.],\n",
       "       [0., 0., 0., 0., 0., 0., 0., 0., 0., 0.],\n",
       "       [0., 0., 0., 0., 0., 0., 0., 0., 0., 0.],\n",
       "       [0., 0., 0., 0., 0., 0., 0., 0., 0., 0.],\n",
       "       [0., 0., 0., 0., 0., 0., 0., 0., 0., 0.],\n",
       "       [0., 0., 0., 0., 0., 0., 0., 0., 0., 0.]])"
      ]
     },
     "execution_count": 19,
     "metadata": {},
     "output_type": "execute_result"
    }
   ],
   "source": [
    "np.zeros(shape = (10, 10))"
   ]
  },
  {
   "cell_type": "code",
   "execution_count": 20,
   "metadata": {
    "colab": {
     "base_uri": "https://localhost:8080/"
    },
    "id": "ewrnqEk0cpK8",
    "outputId": "78065a9f-0034-4f09-e59d-5e422f9df4b4"
   },
   "outputs": [
    {
     "data": {
      "text/plain": [
       "array([[2., 2., 2., 2., 2., 2., 2., 2., 2., 2.],\n",
       "       [2., 2., 2., 2., 2., 2., 2., 2., 2., 2.],\n",
       "       [2., 2., 2., 2., 2., 2., 2., 2., 2., 2.],\n",
       "       [2., 2., 2., 2., 2., 2., 2., 2., 2., 2.],\n",
       "       [2., 2., 2., 2., 2., 2., 2., 2., 2., 2.],\n",
       "       [2., 2., 2., 2., 2., 2., 2., 2., 2., 2.],\n",
       "       [2., 2., 2., 2., 2., 2., 2., 2., 2., 2.],\n",
       "       [2., 2., 2., 2., 2., 2., 2., 2., 2., 2.],\n",
       "       [2., 2., 2., 2., 2., 2., 2., 2., 2., 2.],\n",
       "       [2., 2., 2., 2., 2., 2., 2., 2., 2., 2.]])"
      ]
     },
     "execution_count": 20,
     "metadata": {},
     "output_type": "execute_result"
    }
   ],
   "source": [
    "np.ones((10, 10)) * 2"
   ]
  },
  {
   "cell_type": "code",
   "execution_count": 21,
   "metadata": {
    "colab": {
     "base_uri": "https://localhost:8080/"
    },
    "id": "9OvLSdfdcpK8",
    "outputId": "1d51ff1b-108b-4b7c-8315-dde5eb920041"
   },
   "outputs": [
    {
     "data": {
      "text/plain": [
       "array([2, 4, 6, 8])"
      ]
     },
     "execution_count": 21,
     "metadata": {},
     "output_type": "execute_result"
    }
   ],
   "source": [
    "np.arange(2, 10, 2)  # equivalent to range(2,10,2)"
   ]
  },
  {
   "cell_type": "markdown",
   "metadata": {
    "id": "wkfUmrQOQt-C"
   },
   "source": [
    "### Exercise (In Lec)"
   ]
  },
  {
   "cell_type": "markdown",
   "metadata": {
    "id": "yxz7GZEicpK6"
   },
   "source": [
    "Create an array of first 10 powers of 2"
   ]
  },
  {
   "cell_type": "code",
   "execution_count": 22,
   "metadata": {
    "colab": {
     "base_uri": "https://localhost:8080/"
    },
    "id": "UQr37aElWsSl",
    "outputId": "f7298b51-36c4-456a-c207-be65aeea2396"
   },
   "outputs": [
    {
     "data": {
      "text/plain": [
       "array([  1,   2,   4,   8,  16,  32,  64, 128, 256, 512])"
      ]
     },
     "execution_count": 22,
     "metadata": {},
     "output_type": "execute_result"
    }
   ],
   "source": [
    "2 ** np.arange(10)"
   ]
  },
  {
   "cell_type": "markdown",
   "metadata": {
    "id": "KBuHu7Mng2Y5"
   },
   "source": [
    "### 1D vs 2D array"
   ]
  },
  {
   "cell_type": "code",
   "execution_count": 23,
   "metadata": {
    "colab": {
     "base_uri": "https://localhost:8080/"
    },
    "id": "1a1g17LScpK9",
    "outputId": "663ada13-60ac-415c-cf67-ccd58a19ad7b"
   },
   "outputs": [
    {
     "name": "stdout",
     "output_type": "stream",
     "text": [
      "(1, 10)\n"
     ]
    },
    {
     "data": {
      "text/plain": [
       "array([[ 0,  1,  4,  9, 16, 25, 36, 49, 64, 81]])"
      ]
     },
     "execution_count": 23,
     "metadata": {},
     "output_type": "execute_result"
    }
   ],
   "source": [
    "array1D = np.arange(10) * np.arange(10)\n",
    "array1D = array1D.reshape(1,-1)\n",
    "print(array1D.shape)\n",
    "array1D"
   ]
  },
  {
   "cell_type": "code",
   "execution_count": 24,
   "metadata": {
    "colab": {
     "base_uri": "https://localhost:8080/"
    },
    "id": "TEkHHkPVlcta",
    "outputId": "a3950493-1261-4b6a-cba1-6ae91b1417e0"
   },
   "outputs": [
    {
     "name": "stdout",
     "output_type": "stream",
     "text": [
      "(10, 1)\n"
     ]
    },
    {
     "data": {
      "text/plain": [
       "array([[0],\n",
       "       [1],\n",
       "       [2],\n",
       "       [3],\n",
       "       [4],\n",
       "       [5],\n",
       "       [6],\n",
       "       [7],\n",
       "       [8],\n",
       "       [9]])"
      ]
     },
     "execution_count": 24,
     "metadata": {},
     "output_type": "execute_result"
    }
   ],
   "source": [
    "array2D = np.arange(10).reshape(10, 1)\n",
    "print(array2D.shape)\n",
    "array2D"
   ]
  },
  {
   "cell_type": "code",
   "execution_count": 25,
   "metadata": {
    "colab": {
     "base_uri": "https://localhost:8080/"
    },
    "id": "n9MqPp9WcpK9",
    "outputId": "adce5ad1-a57f-4cff-80cf-c63c1828e275"
   },
   "outputs": [
    {
     "data": {
      "text/plain": [
       "array([[ 0,  1,  4,  9, 16, 25, 36, 49, 64, 81],\n",
       "       [ 1,  2,  5, 10, 17, 26, 37, 50, 65, 82],\n",
       "       [ 2,  3,  6, 11, 18, 27, 38, 51, 66, 83],\n",
       "       [ 3,  4,  7, 12, 19, 28, 39, 52, 67, 84],\n",
       "       [ 4,  5,  8, 13, 20, 29, 40, 53, 68, 85],\n",
       "       [ 5,  6,  9, 14, 21, 30, 41, 54, 69, 86],\n",
       "       [ 6,  7, 10, 15, 22, 31, 42, 55, 70, 87],\n",
       "       [ 7,  8, 11, 16, 23, 32, 43, 56, 71, 88],\n",
       "       [ 8,  9, 12, 17, 24, 33, 44, 57, 72, 89],\n",
       "       [ 9, 10, 13, 18, 25, 34, 45, 58, 73, 90]])"
      ]
     },
     "execution_count": 25,
     "metadata": {},
     "output_type": "execute_result"
    }
   ],
   "source": [
    "array2D + array1D #boardcasting"
   ]
  },
  {
   "cell_type": "markdown",
   "metadata": {
    "id": "4m52F0GLcpK-"
   },
   "source": [
    "### Distinction between numpy 1D arrays and numpy 2D arrays\n",
    "\n",
    "This tends to cause a lot of confusion for new numpy users.\n",
    "Follow the below examples carefully to understand the distinction."
   ]
  },
  {
   "cell_type": "code",
   "execution_count": 26,
   "metadata": {
    "colab": {
     "base_uri": "https://localhost:8080/"
    },
    "id": "hOS5NmDccpK_",
    "outputId": "6ce460bf-af49-48bd-e53f-1da6e4c79b6f"
   },
   "outputs": [
    {
     "name": "stdout",
     "output_type": "stream",
     "text": [
      "[0. 0. 0. 0. 0. 0. 0. 0. 0. 0.]\n"
     ]
    },
    {
     "data": {
      "text/plain": [
       "(10,)"
      ]
     },
     "execution_count": 26,
     "metadata": {},
     "output_type": "execute_result"
    }
   ],
   "source": [
    "Z = np.zeros(shape=10)\n",
    "print(Z)\n",
    "Z.shape"
   ]
  },
  {
   "cell_type": "code",
   "execution_count": 27,
   "metadata": {
    "colab": {
     "base_uri": "https://localhost:8080/"
    },
    "id": "ORpO8ZaFcpK_",
    "outputId": "60d8475e-bb50-4c9b-ddc5-65477e1d1ef1"
   },
   "outputs": [
    {
     "name": "stdout",
     "output_type": "stream",
     "text": [
      "[[0.]\n",
      " [0.]\n",
      " [0.]\n",
      " [0.]\n",
      " [0.]\n",
      " [0.]\n",
      " [0.]\n",
      " [0.]\n",
      " [0.]\n",
      " [0.]]\n"
     ]
    },
    {
     "data": {
      "text/plain": [
       "(10, 1)"
      ]
     },
     "execution_count": 27,
     "metadata": {},
     "output_type": "execute_result"
    }
   ],
   "source": [
    "# Create 2D array by reshape\n",
    "Z = np.zeros(10).reshape(10, 1)\n",
    "print(Z)\n",
    "Z.shape"
   ]
  },
  {
   "cell_type": "code",
   "execution_count": 28,
   "metadata": {
    "colab": {
     "base_uri": "https://localhost:8080/"
    },
    "id": "-AiQ3VrVl2hN",
    "outputId": "930012e2-9905-460f-9e2d-fcbe4a138b39"
   },
   "outputs": [
    {
     "data": {
      "text/plain": [
       "array([0., 0., 0., 0., 0., 0., 0., 0., 0., 0.])"
      ]
     },
     "execution_count": 28,
     "metadata": {},
     "output_type": "execute_result"
    }
   ],
   "source": [
    "Z.squeeze()  # remove axis with length = 1"
   ]
  },
  {
   "cell_type": "code",
   "execution_count": 29,
   "metadata": {
    "colab": {
     "base_uri": "https://localhost:8080/"
    },
    "id": "wtG-DpHAcpK_",
    "outputId": "d92f6c08-ceb3-4aa9-fb3f-4abe7c285165"
   },
   "outputs": [
    {
     "name": "stdout",
     "output_type": "stream",
     "text": [
      "[[[[0. 0. 0.]\n",
      "   [0. 0. 0.]]]]\n",
      "(1, 1, 2, 3) \n",
      "\n",
      "[[0. 0. 0.]\n",
      " [0. 0. 0.]]\n",
      "(2, 3)\n"
     ]
    }
   ],
   "source": [
    "# squeeze Remove axes of length one\n",
    "Z = np.zeros(6).reshape(1, 1, 2, 3)\n",
    "print(Z)\n",
    "print(Z.shape, \"\\n\")\n",
    "\n",
    "Z_squeeze = Z.squeeze()\n",
    "print(Z_squeeze)\n",
    "print(Z_squeeze.shape)"
   ]
  },
  {
   "cell_type": "code",
   "execution_count": 31,
   "metadata": {
    "colab": {
     "base_uri": "https://localhost:8080/"
    },
    "id": "BonXzKqucpLA",
    "outputId": "efd149ed-520e-434e-8be9-a0d1072aee72"
   },
   "outputs": [
    {
     "data": {
      "text/plain": [
       "array([[ 0.35434388, -0.38889209,  1.45234974,  0.53410823,  0.26808703,\n",
       "         0.99028251,  1.27897055, -0.45326455,  0.36126895, -0.68289472],\n",
       "       [ 0.07710743,  0.626236  , -0.06613503, -0.04681918, -2.03425687,\n",
       "        -1.71797943,  0.94482451,  0.08677866,  0.51219303, -1.3552099 ],\n",
       "       [-0.47566314, -0.42157816,  1.75173246, -0.63898905,  0.44173311,\n",
       "         0.31718043,  1.54041369, -0.05915171, -0.40307921, -1.15151237],\n",
       "       [ 0.60006057,  1.05368743,  0.40876927,  1.29736133, -0.18702093,\n",
       "         1.06347997,  0.99175576,  1.34112493, -1.34780102, -0.39178931],\n",
       "       [ 1.31132603, -0.99670531, -0.04479851, -0.19321347, -1.01170067,\n",
       "        -0.84951105, -0.87857814,  0.79596978, -1.38413956,  0.10046944],\n",
       "       [ 0.03765052,  0.64531482,  0.72186863,  0.53793348,  1.23050977,\n",
       "         0.35563634,  0.95641038,  0.60946836, -1.3081413 , -1.70539573],\n",
       "       [ 0.56143432,  0.35859014, -0.80521808,  0.25046014,  0.76194249,\n",
       "        -0.25982446,  0.57779359, -0.01742096,  0.75383904,  0.09931511],\n",
       "       [ 0.55871434, -0.67106993,  0.94589325, -0.77888349, -0.9680113 ,\n",
       "         0.40586555,  1.26713505, -0.01947647,  0.75104065, -0.23944755],\n",
       "       [ 0.876513  ,  0.79626787, -1.02530289,  0.23604154,  0.51885617,\n",
       "         0.04758968, -0.92087502, -0.84979585,  0.09709866,  1.09198719],\n",
       "       [ 1.60626143,  0.802252  ,  1.31969712,  0.73937531,  0.8724408 ,\n",
       "        -1.05919444,  0.9327633 ,  0.21121729,  0.10549441, -1.47116056]])"
      ]
     },
     "execution_count": 31,
     "metadata": {},
     "output_type": "execute_result"
    }
   ],
   "source": [
    "# Matrix Multiplication\n",
    "Mat = np.random.randn(10, 10)\n",
    "Mat.shape"
   ]
  },
  {
   "cell_type": "code",
   "execution_count": 32,
   "metadata": {
    "colab": {
     "base_uri": "https://localhost:8080/"
    },
    "id": "Zgge9PBYcpLA",
    "outputId": "ee3abf21-11a4-4b83-dc38-d552684db8be"
   },
   "outputs": [
    {
     "name": "stdout",
     "output_type": "stream",
     "text": [
      "[[0]\n",
      " [1]\n",
      " [2]\n",
      " [3]\n",
      " [4]\n",
      " [5]\n",
      " [6]\n",
      " [7]\n",
      " [8]\n",
      " [9]]\n",
      "(10, 1)\n"
     ]
    }
   ],
   "source": [
    "Z = np.arange(10).reshape(10, 1)\n",
    "print(Z)\n",
    "print(Z.shape)"
   ]
  },
  {
   "cell_type": "code",
   "execution_count": 33,
   "metadata": {
    "colab": {
     "base_uri": "https://localhost:8080/"
    },
    "id": "4PzWzG4Att7w",
    "outputId": "d259eea7-a09b-48f4-b0ee-cdda26dd8625"
   },
   "outputs": [
    {
     "data": {
      "text/plain": [
       "array([[ 11.38696329],\n",
       "       [-18.19636335],\n",
       "       [ -0.24207067],\n",
       "       [ 11.36252319],\n",
       "       [-19.82887265],\n",
       "       [ -5.40587784],\n",
       "       [ 11.51754519],\n",
       "       [  8.36112096],\n",
       "       [  0.89801276],\n",
       "       [ -1.46782569]])"
      ]
     },
     "execution_count": 33,
     "metadata": {},
     "output_type": "execute_result"
    }
   ],
   "source": [
    "# (N, M) @ (M, K) = (N, K)\n",
    "Mat @ Z"
   ]
  },
  {
   "cell_type": "code",
   "execution_count": 34,
   "metadata": {
    "colab": {
     "base_uri": "https://localhost:8080/",
     "height": 251
    },
    "id": "wNeR6q8mcpLA",
    "outputId": "a08924f2-cd15-4e5d-b375-8fa88d9e52c3"
   },
   "outputs": [
    {
     "name": "stdout",
     "output_type": "stream",
     "text": [
      "(10, 10)\n",
      "(1, 10)\n"
     ]
    },
    {
     "ename": "ValueError",
     "evalue": "matmul: Input operand 1 has a mismatch in its core dimension 0, with gufunc signature (n?,k),(k,m?)->(n?,m?) (size 1 is different from 10)",
     "output_type": "error",
     "traceback": [
      "\u001b[31m---------------------------------------------------------------------------\u001b[39m",
      "\u001b[31mValueError\u001b[39m                                Traceback (most recent call last)",
      "\u001b[36mCell\u001b[39m\u001b[36m \u001b[39m\u001b[32mIn[34]\u001b[39m\u001b[32m, line 7\u001b[39m\n\u001b[32m      4\u001b[39m \u001b[38;5;28mprint\u001b[39m(Z.shape)\n\u001b[32m      6\u001b[39m \u001b[38;5;66;03m# (N, M) @ (M, K) = (N, K)\u001b[39;00m\n\u001b[32m----> \u001b[39m\u001b[32m7\u001b[39m Mat @ Z\n",
      "\u001b[31mValueError\u001b[39m: matmul: Input operand 1 has a mismatch in its core dimension 0, with gufunc signature (n?,k),(k,m?)->(n?,m?) (size 1 is different from 10)"
     ]
    }
   ],
   "source": [
    "Z = np.arange(10).reshape(1, 10)\n",
    "\n",
    "print(Mat.shape)\n",
    "print(Z.shape)\n",
    "\n",
    "# (N, M) @ (M, K) = (N, K)\n",
    "Mat @ Z  # (10, 10) @ (1, 10) NOT WORKING"
   ]
  },
  {
   "cell_type": "code",
   "execution_count": 35,
   "metadata": {
    "colab": {
     "base_uri": "https://localhost:8080/"
    },
    "id": "csqE3Sqq1_YX",
    "outputId": "06c51cf0-9c8a-437f-9059-fa2d25f4eb37"
   },
   "outputs": [
    {
     "data": {
      "text/plain": [
       "(1, 10)"
      ]
     },
     "execution_count": 35,
     "metadata": {},
     "output_type": "execute_result"
    }
   ],
   "source": [
    "(Z @ Mat).shape"
   ]
  },
  {
   "cell_type": "code",
   "execution_count": 36,
   "metadata": {
    "colab": {
     "base_uri": "https://localhost:8080/"
    },
    "id": "WxkZh6mtcpLB",
    "outputId": "d32a7424-aa8d-48ca-8a21-7c0e982a015e"
   },
   "outputs": [
    {
     "data": {
      "text/plain": [
       "array([[0., 0., 0., 0., 0.],\n",
       "       [0., 0., 0., 0., 0.],\n",
       "       [0., 0., 0., 0., 0.],\n",
       "       [0., 0., 0., 0., 0.],\n",
       "       [0., 0., 0., 0., 0.]])"
      ]
     },
     "execution_count": 36,
     "metadata": {},
     "output_type": "execute_result"
    }
   ],
   "source": [
    "# array variable is also a pointer\n",
    "x = np.zeros((5, 5))\n",
    "y = x.copy()\n",
    "x[1, 1] = 2\n",
    "\n",
    "y"
   ]
  },
  {
   "cell_type": "markdown",
   "metadata": {
    "id": "6F8S5BDUcpLB"
   },
   "source": [
    "## Array Broadcasting\n",
    "\n",
    "Normally you only do arithmetic operations between arrays of the same dimension\n",
    "\n",
    "The smaller array of at least 1 dimension of size 1 is “broadcast” across the larger array so that they have compatible shapes by dimension."
   ]
  },
  {
   "cell_type": "code",
   "execution_count": 41,
   "metadata": {
    "colab": {
     "base_uri": "https://localhost:8080/"
    },
    "id": "Odab6zqGMpLE",
    "outputId": "d71981e2-73a5-4e89-f31c-5e718881143d"
   },
   "outputs": [
    {
     "name": "stdout",
     "output_type": "stream",
     "text": [
      "[[0 1 2]] \n",
      "\n",
      "[[0]\n",
      " [1]\n",
      " [2]\n",
      " [3]\n",
      " [4]\n",
      " [5]] \n",
      "\n",
      "[[1. 1. 1.]\n",
      " [1. 1. 1.]\n",
      " [1. 1. 1.]] \n",
      "\n",
      "[[0. 0. 0.]\n",
      " [0. 0. 0.]\n",
      " [0. 0. 0.]\n",
      " [0. 0. 0.]\n",
      " [0. 0. 0.]\n",
      " [0. 0. 0.]] \n",
      "\n"
     ]
    }
   ],
   "source": [
    "a = np.arange(3).reshape(1, 3)\n",
    "b = np.arange(6).reshape(6, 1)\n",
    "c = np.ones((3, 3))\n",
    "d = np.zeros((6, 3))\n",
    "print(a, \"\\n\")\n",
    "print(b, \"\\n\")\n",
    "print(c, \"\\n\")\n",
    "print(d, \"\\n\")"
   ]
  },
  {
   "cell_type": "code",
   "execution_count": 42,
   "metadata": {
    "colab": {
     "base_uri": "https://localhost:8080/"
    },
    "id": "UEsPlv7KcpLC",
    "outputId": "b039743a-7c42-4439-b1b1-ae0dfd524ed8"
   },
   "outputs": [
    {
     "data": {
      "text/plain": [
       "array([[0., 0., 0.],\n",
       "       [1., 1., 1.],\n",
       "       [2., 2., 2.],\n",
       "       [3., 3., 3.],\n",
       "       [4., 4., 4.],\n",
       "       [5., 5., 5.]])"
      ]
     },
     "execution_count": 42,
     "metadata": {},
     "output_type": "execute_result"
    }
   ],
   "source": [
    "# c + 2\n",
    "# c + c\n",
    "# d + a\n",
    "# c + d\n",
    "b + d"
   ]
  },
  {
   "cell_type": "code",
   "execution_count": 43,
   "metadata": {
    "colab": {
     "base_uri": "https://localhost:8080/"
    },
    "id": "YRiRURBPcpLD",
    "outputId": "347347e1-4d8e-406f-f24d-c0e35aa70ef8"
   },
   "outputs": [
    {
     "data": {
      "text/plain": [
       "array([[0, 1, 2],\n",
       "       [1, 2, 3],\n",
       "       [2, 3, 4],\n",
       "       [3, 4, 5],\n",
       "       [4, 5, 6],\n",
       "       [5, 6, 7]])"
      ]
     },
     "execution_count": 43,
     "metadata": {},
     "output_type": "execute_result"
    }
   ],
   "source": [
    "a + b"
   ]
  },
  {
   "cell_type": "code",
   "execution_count": 44,
   "metadata": {
    "id": "S0rfUgFtcpLD"
   },
   "outputs": [
    {
     "name": "stdout",
     "output_type": "stream",
     "text": [
      "(4, 1)\n",
      "(1, 3) \n",
      "\n",
      "[[ 0]\n",
      " [10]\n",
      " [20]\n",
      " [30]] \n",
      "\n",
      "[[0 1 2]] \n",
      "\n"
     ]
    },
    {
     "data": {
      "text/plain": [
       "array([[ 0,  1,  2],\n",
       "       [10, 11, 12],\n",
       "       [20, 21, 22],\n",
       "       [30, 31, 32]])"
      ]
     },
     "execution_count": 44,
     "metadata": {},
     "output_type": "execute_result"
    }
   ],
   "source": [
    "X = np.arange(4).reshape(-1, 1) * 10\n",
    "Y = np.arange(3).reshape(1, -1)\n",
    "print(X.shape)\n",
    "print(Y.shape, \"\\n\")\n",
    "print(X, \"\\n\")\n",
    "print(Y, \"\\n\")\n",
    "X + Y"
   ]
  },
  {
   "cell_type": "markdown",
   "metadata": {
    "id": "8Hv2qdGpluQl"
   },
   "source": [
    "it tries to duplicates every x’s col and y’s row (dim size = 1) to match the other arrays\n",
    "1. Make the two arrays have the same number of dimensions.\n",
    "  - If the numbers of dimensions of the two arrays are different, add new dimensions with size 1 to the head of the array with the smaller dimension.\n",
    "\n",
    "2. If there is a dimension whose size is not 1 in either of the two arrays, it cannot be broadcasted, and an error is raised."
   ]
  },
  {
   "cell_type": "markdown",
   "metadata": {
    "id": "MhdH-qrJcpLD"
   },
   "source": [
    "![](http://scipy-lectures.org/_images/numpy_broadcasting.png)"
   ]
  },
  {
   "cell_type": "markdown",
   "metadata": {
    "id": "2ls4P9gDcpLD"
   },
   "source": [
    "### Exercise (In-Lecture)\n",
    "create a 2D numpy array $A$ (shape = (5,10) ) such that $A_{ij} = i\\times j$, but without using list comprehensions. Use broadcasting instead\n"
   ]
  },
  {
   "cell_type": "code",
   "execution_count": 47,
   "metadata": {
    "id": "4irE8JMJvArT"
   },
   "outputs": [
    {
     "data": {
      "text/plain": [
       "array([[ 0,  0,  0,  0,  0,  0,  0,  0,  0,  0],\n",
       "       [ 0,  1,  2,  3,  4,  5,  6,  7,  8,  9],\n",
       "       [ 0,  2,  4,  6,  8, 10, 12, 14, 16, 18],\n",
       "       [ 0,  3,  6,  9, 12, 15, 18, 21, 24, 27],\n",
       "       [ 0,  4,  8, 12, 16, 20, 24, 28, 32, 36]])"
      ]
     },
     "execution_count": 47,
     "metadata": {},
     "output_type": "execute_result"
    }
   ],
   "source": [
    "# hint: check how it looks for\n",
    "#       np.arange(5).reshape(-1,1)\n",
    "#       np.arange(10).reshape(1,-1)\n",
    "np.arange(5).reshape(-1, 1) * np.arange(10)"
   ]
  },
  {
   "cell_type": "markdown",
   "metadata": {
    "id": "v4e7Hp77cpLE"
   },
   "source": [
    "Use array broadcasting to create a (10,10) numpy array with values\n",
    "$$ A_{ij} = 2^i + j $$"
   ]
  },
  {
   "cell_type": "code",
   "execution_count": 48,
   "metadata": {
    "id": "JAmO02Z-nDlT"
   },
   "outputs": [
    {
     "data": {
      "text/plain": [
       "array([[  1,   2,   3,   4,   5,   6,   7,   8,   9,  10],\n",
       "       [  2,   3,   4,   5,   6,   7,   8,   9,  10,  11],\n",
       "       [  4,   5,   6,   7,   8,   9,  10,  11,  12,  13],\n",
       "       [  8,   9,  10,  11,  12,  13,  14,  15,  16,  17],\n",
       "       [ 16,  17,  18,  19,  20,  21,  22,  23,  24,  25],\n",
       "       [ 32,  33,  34,  35,  36,  37,  38,  39,  40,  41],\n",
       "       [ 64,  65,  66,  67,  68,  69,  70,  71,  72,  73],\n",
       "       [128, 129, 130, 131, 132, 133, 134, 135, 136, 137],\n",
       "       [256, 257, 258, 259, 260, 261, 262, 263, 264, 265],\n",
       "       [512, 513, 514, 515, 516, 517, 518, 519, 520, 521]])"
      ]
     },
     "execution_count": 48,
     "metadata": {},
     "output_type": "execute_result"
    }
   ],
   "source": [
    "# Hint: Check the values of\n",
    "#       2**(np.arange(10).reshape(-1,1))\n",
    "#       np.arange(10).reshape(1,-1)\n",
    "2**(np.arange(10).reshape(-1, 1)) + np.arange(10).reshape(1, -1)"
   ]
  },
  {
   "cell_type": "markdown",
   "metadata": {
    "id": "TKaxKNLns6vy"
   },
   "source": [
    "# Basic Section (End)"
   ]
  },
  {
   "cell_type": "markdown",
   "metadata": {
    "id": "SuT-q0hKcpLE"
   },
   "source": [
    "## Matrix creation\n",
    "\n",
    "There are some functions to create standard matrices"
   ]
  },
  {
   "cell_type": "code",
   "execution_count": 49,
   "metadata": {
    "colab": {
     "base_uri": "https://localhost:8080/"
    },
    "id": "m_AduRywcpLE",
    "outputId": "e36d59fb-4b10-4c8d-f826-bd0885a90c91"
   },
   "outputs": [
    {
     "data": {
      "text/plain": [
       "array([[1., 0., 0., 0., 0.],\n",
       "       [0., 1., 0., 0., 0.],\n",
       "       [0., 0., 1., 0., 0.],\n",
       "       [0., 0., 0., 1., 0.],\n",
       "       [0., 0., 0., 0., 1.]])"
      ]
     },
     "execution_count": 49,
     "metadata": {},
     "output_type": "execute_result"
    }
   ],
   "source": [
    "np.eye(5)"
   ]
  },
  {
   "cell_type": "code",
   "execution_count": 50,
   "metadata": {
    "colab": {
     "base_uri": "https://localhost:8080/"
    },
    "id": "ik1RQuxs4xaQ",
    "outputId": "621d9cf4-751b-4d20-fcf3-9ac3f7acf426"
   },
   "outputs": [
    {
     "data": {
      "text/plain": [
       "array([0, 1, 2, 3, 4, 5, 6, 7, 8, 9])"
      ]
     },
     "execution_count": 50,
     "metadata": {},
     "output_type": "execute_result"
    }
   ],
   "source": [
    "np.arange(10)"
   ]
  },
  {
   "cell_type": "code",
   "execution_count": 51,
   "metadata": {
    "colab": {
     "base_uri": "https://localhost:8080/"
    },
    "id": "bc0OrhdycpLE",
    "outputId": "d877ba9d-f8c4-4e43-883d-faa57d4ccc40"
   },
   "outputs": [
    {
     "data": {
      "text/plain": [
       "array([[0, 0, 0, 0, 0, 0, 0, 0, 0, 0],\n",
       "       [0, 1, 0, 0, 0, 0, 0, 0, 0, 0],\n",
       "       [0, 0, 2, 0, 0, 0, 0, 0, 0, 0],\n",
       "       [0, 0, 0, 3, 0, 0, 0, 0, 0, 0],\n",
       "       [0, 0, 0, 0, 4, 0, 0, 0, 0, 0],\n",
       "       [0, 0, 0, 0, 0, 5, 0, 0, 0, 0],\n",
       "       [0, 0, 0, 0, 0, 0, 6, 0, 0, 0],\n",
       "       [0, 0, 0, 0, 0, 0, 0, 7, 0, 0],\n",
       "       [0, 0, 0, 0, 0, 0, 0, 0, 8, 0],\n",
       "       [0, 0, 0, 0, 0, 0, 0, 0, 0, 9]])"
      ]
     },
     "execution_count": 51,
     "metadata": {},
     "output_type": "execute_result"
    }
   ],
   "source": [
    "# np.diag: Extract a diagonal or construct a diagonal array.\n",
    "M = np.diag(np.arange(10))  # .reshape(5,20)\n",
    "M"
   ]
  },
  {
   "cell_type": "code",
   "execution_count": 52,
   "metadata": {
    "colab": {
     "base_uri": "https://localhost:8080/"
    },
    "id": "CCH9_P_0cpLF",
    "outputId": "c5b32583-4edc-4356-e6ac-909775aca514"
   },
   "outputs": [
    {
     "data": {
      "text/plain": [
       "array([0, 1, 2, 3, 4, 5, 6, 7, 8, 9])"
      ]
     },
     "execution_count": 52,
     "metadata": {},
     "output_type": "execute_result"
    }
   ],
   "source": [
    "np.diag(M)"
   ]
  },
  {
   "cell_type": "code",
   "execution_count": 53,
   "metadata": {
    "colab": {
     "base_uri": "https://localhost:8080/"
    },
    "id": "p6xq39cCcpLF",
    "outputId": "c99b1be9-7a92-4d5c-913f-1b072fe6c77b"
   },
   "outputs": [
    {
     "name": "stdout",
     "output_type": "stream",
     "text": [
      "(5, 3)\n"
     ]
    },
    {
     "data": {
      "text/plain": [
       "array([[ 0,  1,  2],\n",
       "       [ 3,  4,  5],\n",
       "       [ 6,  7,  8],\n",
       "       [ 9, 10, 11],\n",
       "       [12, 13, 14]])"
      ]
     },
     "execution_count": 53,
     "metadata": {},
     "output_type": "execute_result"
    }
   ],
   "source": [
    "# Transpose of the matrix\n",
    "A = np.arange(15).reshape(5, 3)\n",
    "print(A.shape)\n",
    "A"
   ]
  },
  {
   "cell_type": "code",
   "execution_count": 54,
   "metadata": {
    "colab": {
     "base_uri": "https://localhost:8080/"
    },
    "id": "5MCDBv15jDy9",
    "outputId": "02f697d8-ff25-4885-8d0f-2657ecfe4657"
   },
   "outputs": [
    {
     "data": {
      "text/plain": [
       "array([[ 0,  3,  6,  9, 12],\n",
       "       [ 1,  4,  7, 10, 13],\n",
       "       [ 2,  5,  8, 11, 14]])"
      ]
     },
     "execution_count": 54,
     "metadata": {},
     "output_type": "execute_result"
    }
   ],
   "source": [
    "A.T"
   ]
  },
  {
   "cell_type": "code",
   "execution_count": 55,
   "metadata": {
    "colab": {
     "base_uri": "https://localhost:8080/"
    },
    "id": "xrExcBTqcpLF",
    "outputId": "779b46f3-109f-4c91-b7c1-5394ddd3ae81"
   },
   "outputs": [
    {
     "data": {
      "text/plain": [
       "array([[ 0,  3,  6,  9, 12],\n",
       "       [ 1,  4,  7, 10, 13],\n",
       "       [ 2,  5,  8, 11, 14]])"
      ]
     },
     "execution_count": 55,
     "metadata": {},
     "output_type": "execute_result"
    }
   ],
   "source": [
    "A.transpose()"
   ]
  },
  {
   "cell_type": "markdown",
   "metadata": {
    "id": "Aa_FofGIoIyQ"
   },
   "source": [
    "### random seed"
   ]
  },
  {
   "cell_type": "code",
   "execution_count": 56,
   "metadata": {
    "colab": {
     "base_uri": "https://localhost:8080/"
    },
    "id": "uqSzWqbaoulP",
    "outputId": "d39e8170-2e5a-4b06-b44d-2af4b3aef20b"
   },
   "outputs": [
    {
     "data": {
      "text/plain": [
       "array([[0.26186334, 0.37969721, 0.48189817, 0.35880809, 0.940539  ],\n",
       "       [0.48391772, 0.52180097, 0.27615768, 0.18532184, 0.88452634],\n",
       "       [0.91990252, 0.39472591, 0.89210357, 0.51491794, 0.9241348 ],\n",
       "       [0.40300368, 0.91600038, 0.82953901, 0.14679073, 0.36963229],\n",
       "       [0.75971213, 0.5456559 , 0.67423408, 0.79745905, 0.16889086]])"
      ]
     },
     "execution_count": 56,
     "metadata": {},
     "output_type": "execute_result"
    }
   ],
   "source": [
    "np.random.rand(5, 5)"
   ]
  },
  {
   "cell_type": "code",
   "execution_count": 61,
   "metadata": {
    "colab": {
     "base_uri": "https://localhost:8080/"
    },
    "id": "G6gxAaVhcpLG",
    "outputId": "657bef4b-e404-44c4-e22f-dfa0d2948b38"
   },
   "outputs": [
    {
     "name": "stdout",
     "output_type": "stream",
     "text": [
      "[[0.5488135  0.71518937 0.60276338 0.54488318 0.4236548 ]\n",
      " [0.64589411 0.43758721 0.891773   0.96366276 0.38344152]\n",
      " [0.79172504 0.52889492 0.56804456 0.92559664 0.07103606]\n",
      " [0.0871293  0.0202184  0.83261985 0.77815675 0.87001215]\n",
      " [0.97861834 0.79915856 0.46147936 0.78052918 0.11827443]]\n",
      "[[0.63992102 0.14335329 0.94466892 0.52184832 0.41466194]\n",
      " [0.26455561 0.77423369 0.45615033 0.56843395 0.0187898 ]\n",
      " [0.6176355  0.61209572 0.616934   0.94374808 0.6818203 ]\n",
      " [0.3595079  0.43703195 0.6976312  0.06022547 0.66676672]\n",
      " [0.67063787 0.21038256 0.1289263  0.31542835 0.36371077]]\n",
      "[[0.57019677 0.43860151 0.98837384 0.10204481 0.20887676]\n",
      " [0.16130952 0.65310833 0.2532916  0.46631077 0.24442559]\n",
      " [0.15896958 0.11037514 0.65632959 0.13818295 0.19658236]\n",
      " [0.36872517 0.82099323 0.09710128 0.83794491 0.09609841]\n",
      " [0.97645947 0.4686512  0.97676109 0.60484552 0.73926358]]\n"
     ]
    }
   ],
   "source": [
    "np.random.seed(0)  # control the random state\n",
    "print(np.random.rand(5, 5))\n",
    "print(np.random.rand(5, 5))\n",
    "print(np.random.rand(5, 5))"
   ]
  },
  {
   "cell_type": "markdown",
   "metadata": {
    "id": "c32AfJCMcpLG"
   },
   "source": [
    "### Exercise (Post Lecture)\n",
    "\n",
    "Create this matrix   \n",
    "\n",
    "```python\n",
    "array([[5., 1., 1., 1., 1., 1., 1., 1., 1., 1., 1.],\n",
    "       [1., 4., 1., 1., 1., 1., 1., 1., 1., 1., 1.],\n",
    "       [1., 1., 3., 1., 1., 1., 1., 1., 1., 1., 1.],\n",
    "       [1., 1., 1., 2., 1., 1., 1., 1., 1., 1., 1.],\n",
    "       [1., 1., 1., 1., 1., 1., 1., 1., 1., 1., 1.],\n",
    "       [1., 1., 1., 1., 1., 0., 1., 1., 1., 1., 1.],\n",
    "       [1., 1., 1., 1., 1., 1., 1., 1., 1., 1., 1.],\n",
    "       [1., 1., 1., 1., 1., 1., 1., 2., 1., 1., 1.],\n",
    "       [1., 1., 1., 1., 1., 1., 1., 1., 3., 1., 1.],\n",
    "       [1., 1., 1., 1., 1., 1., 1., 1., 1., 4., 1.],\n",
    "       [1., 1., 1., 1., 1., 1., 1., 1., 1., 1., 5.]])\n",
    "```"
   ]
  },
  {
   "cell_type": "code",
   "execution_count": 67,
   "metadata": {
    "id": "H0546O8UcpLH"
   },
   "outputs": [
    {
     "data": {
      "text/plain": [
       "array([[5., 1., 1., 1., 1., 1., 1., 1., 1., 1., 1.],\n",
       "       [1., 4., 1., 1., 1., 1., 1., 1., 1., 1., 1.],\n",
       "       [1., 1., 3., 1., 1., 1., 1., 1., 1., 1., 1.],\n",
       "       [1., 1., 1., 2., 1., 1., 1., 1., 1., 1., 1.],\n",
       "       [1., 1., 1., 1., 1., 1., 1., 1., 1., 1., 1.],\n",
       "       [1., 1., 1., 1., 1., 0., 1., 1., 1., 1., 1.],\n",
       "       [1., 1., 1., 1., 1., 1., 1., 1., 1., 1., 1.],\n",
       "       [1., 1., 1., 1., 1., 1., 1., 2., 1., 1., 1.],\n",
       "       [1., 1., 1., 1., 1., 1., 1., 1., 3., 1., 1.],\n",
       "       [1., 1., 1., 1., 1., 1., 1., 1., 1., 4., 1.],\n",
       "       [1., 1., 1., 1., 1., 1., 1., 1., 1., 1., 5.]])"
      ]
     },
     "execution_count": 67,
     "metadata": {},
     "output_type": "execute_result"
    }
   ],
   "source": [
    "diag1 = np.diag(np.array([5, 4, 3, 2, 1, 0, 1, 2, 3, 4, 5]) - 1)\n",
    "diag1 + np.ones((11, 11))"
   ]
  },
  {
   "cell_type": "markdown",
   "metadata": {
    "id": "7sBUB-10cpLH"
   },
   "source": [
    "## Array Indexing and Slicing"
   ]
  },
  {
   "cell_type": "code",
   "execution_count": 68,
   "metadata": {
    "colab": {
     "base_uri": "https://localhost:8080/"
    },
    "id": "w_fypLsicpLH",
    "outputId": "68f01b74-0eba-48d3-b4a0-3701c456d06e"
   },
   "outputs": [
    {
     "data": {
      "text/plain": [
       "array([0, 1, 2, 3, 4, 5, 6, 7, 8, 9])"
      ]
     },
     "execution_count": 68,
     "metadata": {},
     "output_type": "execute_result"
    }
   ],
   "source": [
    "import numpy as np\n",
    "\n",
    "arr = np.arange(10)\n",
    "arr"
   ]
  },
  {
   "cell_type": "code",
   "execution_count": 69,
   "metadata": {
    "colab": {
     "base_uri": "https://localhost:8080/"
    },
    "id": "ek7TJqX-cpLH",
    "outputId": "e303b571-71e4-473a-ce77-4d3718cd0f93"
   },
   "outputs": [
    {
     "data": {
      "text/plain": [
       "np.int64(5)"
      ]
     },
     "execution_count": 69,
     "metadata": {},
     "output_type": "execute_result"
    }
   ],
   "source": [
    "arr[5]"
   ]
  },
  {
   "cell_type": "code",
   "execution_count": 71,
   "metadata": {
    "colab": {
     "base_uri": "https://localhost:8080/"
    },
    "id": "3VwM84XPRCIV",
    "outputId": "36d05a5e-801d-49e8-8401-50d91a7e41d8"
   },
   "outputs": [
    {
     "data": {
      "text/plain": [
       "np.int64(7)"
      ]
     },
     "execution_count": 71,
     "metadata": {},
     "output_type": "execute_result"
    }
   ],
   "source": [
    "arr[-3]"
   ]
  },
  {
   "cell_type": "code",
   "execution_count": 72,
   "metadata": {
    "colab": {
     "base_uri": "https://localhost:8080/"
    },
    "id": "WsRvDLWacpLI",
    "outputId": "66705a6f-c169-48a8-c9b4-4a582a94154f"
   },
   "outputs": [
    {
     "data": {
      "text/plain": [
       "array([3, 4, 5, 6])"
      ]
     },
     "execution_count": 72,
     "metadata": {},
     "output_type": "execute_result"
    }
   ],
   "source": [
    "arr[3:7]"
   ]
  },
  {
   "cell_type": "code",
   "execution_count": 73,
   "metadata": {
    "colab": {
     "base_uri": "https://localhost:8080/"
    },
    "id": "DH2tZoZ5cpLI",
    "outputId": "4e341fd3-3d23-4685-8e1c-0e914ada873f"
   },
   "outputs": [
    {
     "data": {
      "text/plain": [
       "array([2, 3, 4, 5, 6, 7, 8, 9])"
      ]
     },
     "execution_count": 73,
     "metadata": {},
     "output_type": "execute_result"
    }
   ],
   "source": [
    "arr[2:]"
   ]
  },
  {
   "cell_type": "code",
   "execution_count": 74,
   "metadata": {
    "colab": {
     "base_uri": "https://localhost:8080/"
    },
    "id": "7OASWxJncpLI",
    "outputId": "04d837ca-5e51-40ca-846b-73c4c99c9a5a"
   },
   "outputs": [
    {
     "data": {
      "text/plain": [
       "array([0, 1, 2, 3, 4, 5, 6])"
      ]
     },
     "execution_count": 74,
     "metadata": {},
     "output_type": "execute_result"
    }
   ],
   "source": [
    "arr[0:-3]"
   ]
  },
  {
   "cell_type": "code",
   "execution_count": 75,
   "metadata": {
    "colab": {
     "base_uri": "https://localhost:8080/"
    },
    "id": "yjg5vIYbcpLI",
    "outputId": "fe8de7fe-a196-4dab-81f8-18eb5958e4e4"
   },
   "outputs": [
    {
     "data": {
      "text/plain": [
       "array([0, 2, 4])"
      ]
     },
     "execution_count": 75,
     "metadata": {},
     "output_type": "execute_result"
    }
   ],
   "source": [
    "arr[0:6:2]  # similar as range(0,6,2)"
   ]
  },
  {
   "cell_type": "code",
   "execution_count": 76,
   "metadata": {
    "colab": {
     "base_uri": "https://localhost:8080/"
    },
    "id": "YvNXaLtPcpLI",
    "outputId": "dde1ed19-1e8d-4745-984a-1d92ec9de2e7"
   },
   "outputs": [
    {
     "data": {
      "text/plain": [
       "array([5, 3, 1])"
      ]
     },
     "execution_count": 76,
     "metadata": {},
     "output_type": "execute_result"
    }
   ],
   "source": [
    "arr[5:0:-2]"
   ]
  },
  {
   "cell_type": "code",
   "execution_count": 77,
   "metadata": {
    "colab": {
     "base_uri": "https://localhost:8080/"
    },
    "id": "woqqKnphcpLI",
    "outputId": "6fb240e4-2a34-4dfd-d8ff-80a2e6758e20"
   },
   "outputs": [
    {
     "data": {
      "text/plain": [
       "array([9, 8, 7, 6, 5, 4, 3, 2, 1, 0])"
      ]
     },
     "execution_count": 77,
     "metadata": {},
     "output_type": "execute_result"
    }
   ],
   "source": [
    "arr[::-1]"
   ]
  },
  {
   "cell_type": "code",
   "execution_count": 78,
   "metadata": {
    "colab": {
     "base_uri": "https://localhost:8080/"
    },
    "id": "SbWOYU1rcpLJ",
    "outputId": "c3682b41-bc15-4285-ca76-a711c3fa9289"
   },
   "outputs": [
    {
     "data": {
      "text/plain": [
       "array([0, 1, 2, 3, 4, 5, 6, 7, 8, 9])"
      ]
     },
     "execution_count": 78,
     "metadata": {},
     "output_type": "execute_result"
    }
   ],
   "source": [
    "arr[:]"
   ]
  },
  {
   "cell_type": "code",
   "execution_count": 79,
   "metadata": {
    "id": "SUQJIQgakNze"
   },
   "outputs": [
    {
     "data": {
      "text/plain": [
       "array([0, 1, 2, 3, 4, 5, 6, 7, 8, 9])"
      ]
     },
     "execution_count": 79,
     "metadata": {},
     "output_type": "execute_result"
    }
   ],
   "source": [
    "arr"
   ]
  },
  {
   "cell_type": "code",
   "execution_count": 81,
   "metadata": {
    "id": "8cIHEi6Mn_Sf"
   },
   "outputs": [
    {
     "name": "stdout",
     "output_type": "stream",
     "text": [
      "[[ 0  1  2  3  4  5]\n",
      " [10 11 12 13 14 15]\n",
      " [20 21 22 23 24 25]\n",
      " [30 31 32 33 34 35]\n",
      " [40 41 42 43 44 45]\n",
      " [50 51 52 53 54 55]]\n"
     ]
    },
    {
     "data": {
      "text/plain": [
       "array([[44, 45],\n",
       "       [54, 55]])"
      ]
     },
     "execution_count": 81,
     "metadata": {},
     "output_type": "execute_result"
    }
   ],
   "source": [
    "a = 10 * np.arange(6).reshape(-1, 1) + np.arange(6)\n",
    "print(a)\n",
    "a[4:, 4:]"
   ]
  },
  {
   "cell_type": "markdown",
   "metadata": {
    "id": "tapilH8YcpLJ"
   },
   "source": [
    "Can use all the above slicing methods for each dimension of a multidemnsional array\n",
    "![](http://scipy-lectures.org/_images/numpy_indexing.png)"
   ]
  },
  {
   "cell_type": "markdown",
   "metadata": {
    "id": "4tUcmolfcpLJ"
   },
   "source": [
    "try it yourself"
   ]
  },
  {
   "cell_type": "markdown",
   "metadata": {
    "id": "y-mTwEvkcpLK"
   },
   "source": [
    "### Exercise (Post-Lecture)\n",
    "Create the following matrix, using `np.ones()`, `np.zeros()`, and slicing\n",
    "```python\n",
    "array([[1., 1., 1., 1., 1., 1., 1., 1., 1., 1.],\n",
    "       [1., 1., 1., 1., 1., 1., 1., 1., 1., 1.],\n",
    "       [1., 1., 0., 0., 0., 0., 0., 0., 1., 1.],\n",
    "       [1., 1., 0., 0., 0., 0., 0., 0., 1., 1.],\n",
    "       [1., 1., 0., 0., 0., 0., 0., 0., 1., 1.],\n",
    "       [1., 1., 0., 0., 0., 0., 0., 0., 1., 1.],\n",
    "       [1., 1., 0., 0., 0., 0., 0., 0., 1., 1.],\n",
    "       [1., 1., 0., 0., 0., 0., 0., 0., 1., 1.],\n",
    "       [1., 1., 1., 1., 1., 1., 1., 1., 1., 1.],\n",
    "       [1., 1., 1., 1., 1., 1., 1., 1., 1., 1.]])\n",
    "```"
   ]
  },
  {
   "cell_type": "code",
   "execution_count": 86,
   "metadata": {
    "id": "-kXUXbGRcpLK"
   },
   "outputs": [
    {
     "data": {
      "text/plain": [
       "array([[1., 1., 1., 1., 1., 1., 1., 1., 1., 1.],\n",
       "       [1., 1., 1., 1., 1., 1., 1., 1., 1., 1.],\n",
       "       [1., 1., 0., 0., 0., 0., 0., 0., 1., 1.],\n",
       "       [1., 1., 0., 0., 0., 0., 0., 0., 1., 1.],\n",
       "       [1., 1., 0., 0., 0., 0., 0., 0., 1., 1.],\n",
       "       [1., 1., 0., 0., 0., 0., 0., 0., 1., 1.],\n",
       "       [1., 1., 0., 0., 0., 0., 0., 0., 1., 1.],\n",
       "       [1., 1., 0., 0., 0., 0., 0., 0., 1., 1.],\n",
       "       [1., 1., 1., 1., 1., 1., 1., 1., 1., 1.],\n",
       "       [1., 1., 1., 1., 1., 1., 1., 1., 1., 1.]])"
      ]
     },
     "execution_count": 86,
     "metadata": {},
     "output_type": "execute_result"
    }
   ],
   "source": [
    "arr3 = np.ones((10, 10))\n",
    "#arr3\n",
    "arr3[2:8, 2:8] = np.zeros((6, 6))\n",
    "arr3"
   ]
  },
  {
   "cell_type": "markdown",
   "metadata": {
    "id": "UHi8Zj4acpLK"
   },
   "source": [
    "Create the following matrix\n",
    "```python\n",
    "array([[-1., -1., -1., -1., -1., -1., -1., -1., -1., -1.],\n",
    "       [-1.,  0.,  1.,  2.,  3.,  4., -1., -1., -1., -1.],\n",
    "       [-1.,  5.,  6.,  7.,  8.,  9., -1., -1., -1., -1.],\n",
    "       [-1., 10., 11., 12., 13., 14., -1., -1., -1., -1.],\n",
    "       [-1., 15., 16., 17., 18., 19., -1., -1., -1., -1.],\n",
    "       [-1., 20., 21., 22., 23., 24., -1., -1., -1., -1.],\n",
    "       [-1., 25., 26., 27., 28., 29., -1., -1., -1., -1.],\n",
    "       [-1., 30., 31., 32., 33., 34., -1., -1., -1., -1.],\n",
    "       [-1., 35., 36., 37., 38., 39., -1., -1., -1., -1.],\n",
    "       [-1., -1., -1., -1., -1., -1., -1., -1., -1., -1.]])\n",
    "```"
   ]
  },
  {
   "cell_type": "code",
   "execution_count": 88,
   "metadata": {
    "id": "OfG1CN9FcpLK"
   },
   "outputs": [
    {
     "data": {
      "text/plain": [
       "array([[-1., -1., -1., -1., -1., -1., -1., -1., -1., -1.],\n",
       "       [-1.,  0.,  1.,  2.,  3.,  4., -1., -1., -1., -1.],\n",
       "       [-1.,  5.,  6.,  7.,  8.,  9., -1., -1., -1., -1.],\n",
       "       [-1., 10., 11., 12., 13., 14., -1., -1., -1., -1.],\n",
       "       [-1., 15., 16., 17., 18., 19., -1., -1., -1., -1.],\n",
       "       [-1., 20., 21., 22., 23., 24., -1., -1., -1., -1.],\n",
       "       [-1., 25., 26., 27., 28., 29., -1., -1., -1., -1.],\n",
       "       [-1., 30., 31., 32., 33., 34., -1., -1., -1., -1.],\n",
       "       [-1., 35., 36., 37., 38., 39., -1., -1., -1., -1.],\n",
       "       [-1., -1., -1., -1., -1., -1., -1., -1., -1., -1.]])"
      ]
     },
     "execution_count": 88,
     "metadata": {},
     "output_type": "execute_result"
    }
   ],
   "source": [
    "arr4 = -1 * np.ones((10, 10))\n",
    "arr4[1:9, 1:6] = np.arange(40).reshape(8, 5)\n",
    "arr4"
   ]
  },
  {
   "cell_type": "markdown",
   "metadata": {
    "id": "r1a-dglxcpLL"
   },
   "source": [
    "# Fancy Array Indexing\n",
    "\n",
    "We can use numpy arrays as an index for other numpy arrays"
   ]
  },
  {
   "cell_type": "code",
   "execution_count": 89,
   "metadata": {
    "colab": {
     "base_uri": "https://localhost:8080/"
    },
    "id": "Q8xYPQexcpLL",
    "outputId": "5f4c02c6-067d-4263-e7b7-20345877193d"
   },
   "outputs": [
    {
     "data": {
      "text/plain": [
       "array([0, 1, 2, 3, 4, 5, 6, 7, 8, 9])"
      ]
     },
     "execution_count": 89,
     "metadata": {},
     "output_type": "execute_result"
    }
   ],
   "source": [
    "arr = np.arange(10)\n",
    "arr"
   ]
  },
  {
   "cell_type": "code",
   "execution_count": 90,
   "metadata": {
    "colab": {
     "base_uri": "https://localhost:8080/"
    },
    "id": "wccPNb_KcpLL",
    "outputId": "53db96b9-ec27-4238-8638-2401ffe590bf"
   },
   "outputs": [
    {
     "data": {
      "text/plain": [
       "array([ 2,  7, -1])"
      ]
     },
     "execution_count": 90,
     "metadata": {},
     "output_type": "execute_result"
    }
   ],
   "source": [
    "# use array/list/tuple as indexs\n",
    "idx = np.array([2, 7, -1])\n",
    "idx"
   ]
  },
  {
   "cell_type": "code",
   "execution_count": 91,
   "metadata": {
    "colab": {
     "base_uri": "https://localhost:8080/"
    },
    "id": "_b6P6mzecpLL",
    "outputId": "7d2be830-92c1-430a-8439-10b20c1fdf39"
   },
   "outputs": [
    {
     "name": "stdout",
     "output_type": "stream",
     "text": [
      "[2 7 9]\n"
     ]
    },
    {
     "data": {
      "text/plain": [
       "array([ 0,  1, -1,  3,  4,  5,  6, -1,  8, -1])"
      ]
     },
     "execution_count": 91,
     "metadata": {},
     "output_type": "execute_result"
    }
   ],
   "source": [
    "print(arr[idx])\n",
    "arr[idx] = -1\n",
    "arr"
   ]
  },
  {
   "cell_type": "code",
   "execution_count": 92,
   "metadata": {
    "colab": {
     "base_uri": "https://localhost:8080/"
    },
    "id": "0u7cOoKVcpLL",
    "outputId": "530c9468-39ae-4641-d6a4-9f5b710314b2"
   },
   "outputs": [
    {
     "data": {
      "text/plain": [
       "array([False, False,  True, False, False, False, False,  True, False,\n",
       "        True])"
      ]
     },
     "execution_count": 92,
     "metadata": {},
     "output_type": "execute_result"
    }
   ],
   "source": [
    "# use bool array\n",
    "arr < 0"
   ]
  },
  {
   "cell_type": "code",
   "execution_count": 93,
   "metadata": {
    "colab": {
     "base_uri": "https://localhost:8080/"
    },
    "id": "CBSA1MaOcpLL",
    "outputId": "ae133335-2a82-41ce-c210-3733756a2817"
   },
   "outputs": [
    {
     "data": {
      "text/plain": [
       "array([  0,   1, 100,   3,   4,   5,   6, 100,   8, 100])"
      ]
     },
     "execution_count": 93,
     "metadata": {},
     "output_type": "execute_result"
    }
   ],
   "source": [
    "arr[arr < 0] = 100\n",
    "arr"
   ]
  },
  {
   "cell_type": "markdown",
   "metadata": {
    "id": "ieEw3imtcpLM"
   },
   "source": [
    "For multidimensional array, array indexing works different from slicing"
   ]
  },
  {
   "cell_type": "code",
   "execution_count": 94,
   "metadata": {
    "colab": {
     "base_uri": "https://localhost:8080/"
    },
    "id": "gLwyjAAtcpLM",
    "outputId": "d4b02dce-c55a-4df7-e220-1f9f52ad4487"
   },
   "outputs": [
    {
     "data": {
      "text/plain": [
       "array([[0., 0., 0., 0., 0., 0.],\n",
       "       [0., 0., 0., 0., 0., 0.],\n",
       "       [1., 1., 1., 0., 0., 0.],\n",
       "       [1., 1., 1., 0., 0., 0.],\n",
       "       [1., 1., 1., 0., 0., 0.],\n",
       "       [0., 0., 0., 0., 0., 0.]])"
      ]
     },
     "execution_count": 94,
     "metadata": {},
     "output_type": "execute_result"
    }
   ],
   "source": [
    "X = np.zeros((6, 6))\n",
    "X[2:5, 0:3] = 1\n",
    "X"
   ]
  },
  {
   "cell_type": "code",
   "execution_count": 95,
   "metadata": {
    "colab": {
     "base_uri": "https://localhost:8080/"
    },
    "id": "OgszejT3ky5c",
    "outputId": "f9fc711f-3970-4d70-dbf5-e2365759f1b5"
   },
   "outputs": [
    {
     "data": {
      "text/plain": [
       "(array([2, 3, 4]), array([0, 1, 2]))"
      ]
     },
     "execution_count": 95,
     "metadata": {},
     "output_type": "execute_result"
    }
   ],
   "source": [
    "np.arange(2, 5), np.arange(0, 3)"
   ]
  },
  {
   "cell_type": "code",
   "execution_count": 96,
   "metadata": {
    "colab": {
     "base_uri": "https://localhost:8080/"
    },
    "id": "dryNdm5PcpLM",
    "outputId": "8a55a100-6ff3-4369-bced-62cf84789d1e"
   },
   "outputs": [
    {
     "data": {
      "text/plain": [
       "array([[0., 0., 0., 0., 0., 0.],\n",
       "       [0., 0., 0., 0., 0., 0.],\n",
       "       [1., 0., 0., 0., 0., 0.],\n",
       "       [0., 1., 0., 0., 0., 0.],\n",
       "       [0., 0., 1., 0., 0., 0.],\n",
       "       [0., 0., 0., 0., 0., 0.]])"
      ]
     },
     "execution_count": 96,
     "metadata": {},
     "output_type": "execute_result"
    }
   ],
   "source": [
    "X = np.zeros((6, 6))\n",
    "X[np.arange(2, 5), np.arange(0, 3)] = 1\n",
    "X"
   ]
  },
  {
   "cell_type": "code",
   "execution_count": 97,
   "metadata": {
    "colab": {
     "base_uri": "https://localhost:8080/"
    },
    "id": "T3cfJVoecpLM",
    "outputId": "762b1a62-47fa-4caf-8975-b9c98303af58"
   },
   "outputs": [
    {
     "data": {
      "text/plain": [
       "array([[ 0,  1,  2,  3,  4,  5],\n",
       "       [10, 11, 12, 13, 14, 15],\n",
       "       [20, 21, 22, 23, 24, 25],\n",
       "       [30, 31, 32, 33, 34, 35],\n",
       "       [40, 41, 42, 43, 44, 45],\n",
       "       [50, 51, 52, 53, 54, 55]])"
      ]
     },
     "execution_count": 97,
     "metadata": {},
     "output_type": "execute_result"
    }
   ],
   "source": [
    "# Here is our array, what should we return?\n",
    "a = 10 * np.arange(6).reshape(-1, 1) + np.arange(6)\n",
    "a"
   ]
  },
  {
   "cell_type": "code",
   "execution_count": 98,
   "metadata": {
    "id": "gYPf1JVrcpLN"
   },
   "outputs": [
    {
     "data": {
      "text/plain": [
       "array([10, 21, 32, 43, 54])"
      ]
     },
     "execution_count": 98,
     "metadata": {},
     "output_type": "execute_result"
    }
   ],
   "source": [
    "a[(1, 2, 3, 4, 5), (0, 1, 2, 3, 4)]"
   ]
  },
  {
   "cell_type": "code",
   "execution_count": 99,
   "metadata": {
    "id": "En0_DPUATTD5"
   },
   "outputs": [
    {
     "data": {
      "text/plain": [
       "array([[30, 32, 35],\n",
       "       [40, 42, 45],\n",
       "       [50, 52, 55]])"
      ]
     },
     "execution_count": 99,
     "metadata": {},
     "output_type": "execute_result"
    }
   ],
   "source": [
    "a[3:, [0, 2, 5]]"
   ]
  },
  {
   "cell_type": "code",
   "execution_count": 100,
   "metadata": {
    "id": "SF6L76_uTTMb"
   },
   "outputs": [
    {
     "name": "stdout",
     "output_type": "stream",
     "text": [
      "[ True False  True False False  True]\n"
     ]
    },
    {
     "data": {
      "text/plain": [
       "array([ 2, 22, 52])"
      ]
     },
     "execution_count": 100,
     "metadata": {},
     "output_type": "execute_result"
    }
   ],
   "source": [
    "mask = np.array([1, 0, 1, 0, 0, 1], dtype=bool)\n",
    "print(mask)\n",
    "a[mask, 2]"
   ]
  },
  {
   "cell_type": "code",
   "execution_count": 101,
   "metadata": {
    "colab": {
     "base_uri": "https://localhost:8080/"
    },
    "id": "vToQqdO-dwy9",
    "outputId": "d4f43cd8-ccc5-4fec-aaba-ccb43957c9a0"
   },
   "outputs": [
    {
     "data": {
      "text/plain": [
       "array([12,  2, 12,  2,  2, 12])"
      ]
     },
     "execution_count": 101,
     "metadata": {},
     "output_type": "execute_result"
    }
   ],
   "source": [
    "mask = np.array([1,0,1,0,0,1])\n",
    "a[mask,2]"
   ]
  },
  {
   "cell_type": "markdown",
   "metadata": {
    "id": "40etmVYRcpLN"
   },
   "source": [
    "![](http://scipy-lectures.org/_images/numpy_fancy_indexing.png)"
   ]
  },
  {
   "cell_type": "markdown",
   "metadata": {
    "id": "yjacL27WcpLN"
   },
   "source": [
    "### Exercise (Post - Lecture)\n",
    "Create the following matrix\n",
    "```python\n",
    "array([[0., 0., 0., 0., 0., 0., 0., 0., 0., 1.],\n",
    "       [0., 0., 0., 0., 0., 0., 0., 1., 0., 0.],\n",
    "       [0., 0., 0., 0., 0., 1., 0., 0., 0., 0.],\n",
    "       [0., 0., 0., 1., 0., 0., 0., 0., 0., 0.],\n",
    "       [0., 1., 0., 0., 0., 0., 0., 0., 0., 0.],\n",
    "       [0., 1., 0., 0., 0., 0., 0., 0., 0., 0.],\n",
    "       [0., 0., 0., 1., 0., 0., 0., 0., 0., 0.],\n",
    "       [0., 0., 0., 0., 0., 1., 0., 0., 0., 0.],\n",
    "       [0., 0., 0., 0., 0., 0., 0., 1., 0., 0.],\n",
    "       [0., 0., 0., 0., 0., 0., 0., 0., 0., 1.]])\n",
    "```"
   ]
  },
  {
   "cell_type": "code",
   "execution_count": 113,
   "metadata": {
    "id": "DTkKnYepcpLO"
   },
   "outputs": [
    {
     "data": {
      "text/plain": [
       "array([[0., 0., 0., 0., 0., 0., 0., 0., 0., 1.],\n",
       "       [0., 0., 0., 0., 0., 0., 0., 1., 0., 0.],\n",
       "       [0., 0., 0., 0., 0., 1., 0., 0., 0., 0.],\n",
       "       [0., 0., 0., 1., 0., 0., 0., 0., 0., 0.],\n",
       "       [0., 1., 0., 0., 0., 0., 0., 0., 0., 0.],\n",
       "       [0., 1., 0., 0., 0., 0., 0., 0., 0., 0.],\n",
       "       [0., 0., 0., 1., 0., 0., 0., 0., 0., 0.],\n",
       "       [0., 0., 0., 0., 0., 1., 0., 0., 0., 0.],\n",
       "       [0., 0., 0., 0., 0., 0., 0., 1., 0., 0.],\n",
       "       [0., 0., 0., 0., 0., 0., 0., 0., 0., 1.]])"
      ]
     },
     "execution_count": 113,
     "metadata": {},
     "output_type": "execute_result"
    }
   ],
   "source": [
    "arr5 = np.zeros((10, 10))\n",
    "arr5[np.arange(5), np.arange(9, 0, -2)] = 1\n",
    "arr5[np.arange(5, 10), np.arange(1, 10, 2)] = 1\n",
    "\n",
    "arr5"
   ]
  },
  {
   "cell_type": "markdown",
   "metadata": {
    "id": "nTu3gNhNcpLO"
   },
   "source": [
    "### Exercise (Post Lecture)\n",
    "Write a function to compute the [trace](https://en.wikipedia.org/wiki/Trace_(linear_algebra)) of a square numpy array using fancy array indexing. Compare your implementation to numpy's built-in function `np.trace`."
   ]
  },
  {
   "cell_type": "code",
   "execution_count": 117,
   "metadata": {
    "id": "1ZE8dfvbcpLO"
   },
   "outputs": [
    {
     "data": {
      "text/plain": [
       "np.True_"
      ]
     },
     "execution_count": 117,
     "metadata": {},
     "output_type": "execute_result"
    }
   ],
   "source": [
    "def trace(a):\n",
    "  return sum(a[np.arange(a.shape[0]), np.arange(a.shape[1])])\n",
    "trace(a) == np.trace(a)"
   ]
  },
  {
   "cell_type": "markdown",
   "metadata": {
    "id": "q5zRB9GycpLO"
   },
   "source": [
    "We can use `np.where`, to get indices of the `True` values in a boolean array"
   ]
  },
  {
   "cell_type": "code",
   "execution_count": 138,
   "metadata": {
    "id": "-Z454xw1uWhr"
   },
   "outputs": [
    {
     "name": "stdout",
     "output_type": "stream",
     "text": [
      "[[ 0  1  2  3  4]\n",
      " [ 5  6  7  8  9]\n",
      " [10 11 12 13 14]\n",
      " [15 16 17 18 19]\n",
      " [20 21 22 23 24]]\n",
      "[[False False False False False]\n",
      " [False False False False False]\n",
      " [False False False False False]\n",
      " [ True  True  True  True  True]\n",
      " [ True  True  True  True  True]]\n"
     ]
    },
    {
     "data": {
      "text/plain": [
       "array([15, 16, 17, 18, 19, 20, 21, 22, 23, 24])"
      ]
     },
     "execution_count": 138,
     "metadata": {},
     "output_type": "execute_result"
    }
   ],
   "source": [
    "Y = np.arange(25).reshape(5, 5)\n",
    "print(Y)\n",
    "print(Y > 14)\n",
    "#print(np.where(Y > 14))\n",
    "Y[np.where(Y>14)]"
   ]
  },
  {
   "cell_type": "markdown",
   "metadata": {
    "id": "QLxyEUlJcpLO"
   },
   "source": [
    "## Reduction operations\n",
    "\n",
    "Many reduction functions are available\n",
    "\n",
    "- np.sum, np.prod\n",
    "- np.min, np.max\n",
    "- np.any, np.all\n",
    "\n",
    "Partial reductions\n",
    "\n",
    "- np.cumsum, np.cumprod"
   ]
  },
  {
   "cell_type": "code",
   "execution_count": 120,
   "metadata": {
    "colab": {
     "base_uri": "https://localhost:8080/"
    },
    "id": "n3-oTPmAcpLP",
    "outputId": "62cb0415-cd2a-452a-b2e5-6f78deb09347"
   },
   "outputs": [
    {
     "data": {
      "text/plain": [
       "array([[ 0,  1,  2,  3,  4],\n",
       "       [ 5,  6,  7,  8,  9],\n",
       "       [10, 11, 12, 13, 14],\n",
       "       [15, 16, 17, 18, 19],\n",
       "       [20, 21, 22, 23, 24],\n",
       "       [25, 26, 27, 28, 29],\n",
       "       [30, 31, 32, 33, 34],\n",
       "       [35, 36, 37, 38, 39],\n",
       "       [40, 41, 42, 43, 44],\n",
       "       [45, 46, 47, 48, 49]])"
      ]
     },
     "execution_count": 120,
     "metadata": {},
     "output_type": "execute_result"
    }
   ],
   "source": [
    "X = np.arange(50).reshape(10,5)\n",
    "X"
   ]
  },
  {
   "cell_type": "code",
   "execution_count": 121,
   "metadata": {
    "id": "JlHMkXQKcpLP"
   },
   "outputs": [
    {
     "data": {
      "text/plain": [
       "(np.int64(1225), np.int64(0))"
      ]
     },
     "execution_count": 121,
     "metadata": {},
     "output_type": "execute_result"
    }
   ],
   "source": [
    "np.sum(X), np.prod(X)\n",
    "# class.method(self)"
   ]
  },
  {
   "cell_type": "markdown",
   "metadata": {
    "id": "g_6eWJYmcft8"
   },
   "source": [
    "The way to understand the “axis” of numpy sum is it collapses the specified axis. So when it collapses the axis 0 (row), it becomes just one row and column-wise sum."
   ]
  },
  {
   "cell_type": "code",
   "execution_count": 122,
   "metadata": {
    "colab": {
     "base_uri": "https://localhost:8080/"
    },
    "id": "yGO-EguJcpLP",
    "outputId": "c5b6601c-7fa2-4f3f-8b25-7940a0485cc4"
   },
   "outputs": [
    {
     "data": {
      "text/plain": [
       "array([ 10,  35,  60,  85, 110, 135, 160, 185, 210, 235])"
      ]
     },
     "execution_count": 122,
     "metadata": {},
     "output_type": "execute_result"
    }
   ],
   "source": [
    "# sum of the rows\n",
    "np.sum(X, axis=1)"
   ]
  },
  {
   "cell_type": "code",
   "execution_count": 127,
   "metadata": {
    "colab": {
     "base_uri": "https://localhost:8080/"
    },
    "id": "EnhMNdmTmYhF",
    "outputId": "6fbc2ca6-b90a-4b47-8491-229cd4dd0ba6"
   },
   "outputs": [
    {
     "data": {
      "text/plain": [
       "array([225, 235, 245, 255, 265])"
      ]
     },
     "execution_count": 127,
     "metadata": {},
     "output_type": "execute_result"
    }
   ],
   "source": [
    "X.sum(axis=0)"
   ]
  },
  {
   "cell_type": "code",
   "execution_count": 124,
   "metadata": {
    "id": "AAQ2oeiOcpLP"
   },
   "outputs": [
    {
     "data": {
      "text/plain": [
       "(np.int64(0), np.int64(49))"
      ]
     },
     "execution_count": 124,
     "metadata": {},
     "output_type": "execute_result"
    }
   ],
   "source": [
    "np.min(X), np.max(X)"
   ]
  },
  {
   "cell_type": "code",
   "execution_count": 125,
   "metadata": {
    "id": "DTxiE53y8wMh"
   },
   "outputs": [
    {
     "data": {
      "text/plain": [
       "array([[ 0,  1,  2,  3,  4],\n",
       "       [ 5,  6,  7,  8,  9],\n",
       "       [10, 11, 12, 13, 14],\n",
       "       [15, 16, 17, 18, 19],\n",
       "       [20, 21, 22, 23, 24],\n",
       "       [25, 26, 27, 28, 29],\n",
       "       [30, 31, 32, 33, 34],\n",
       "       [35, 36, 37, 38, 39],\n",
       "       [40, 41, 42, 43, 44],\n",
       "       [45, 46, 47, 48, 49]])"
      ]
     },
     "execution_count": 125,
     "metadata": {},
     "output_type": "execute_result"
    }
   ],
   "source": [
    "X"
   ]
  },
  {
   "cell_type": "code",
   "execution_count": 128,
   "metadata": {
    "colab": {
     "base_uri": "https://localhost:8080/"
    },
    "id": "0h4QuwoQcpLQ",
    "outputId": "fd09ef1b-8ce4-48c8-d8c7-23c7c3a7672f"
   },
   "outputs": [
    {
     "data": {
      "text/plain": [
       "array([ 0,  5, 10, 15, 20, 25, 30, 35, 40, 45])"
      ]
     },
     "execution_count": 128,
     "metadata": {},
     "output_type": "execute_result"
    }
   ],
   "source": [
    "np.min(X, axis=1)"
   ]
  },
  {
   "cell_type": "code",
   "execution_count": 129,
   "metadata": {
    "colab": {
     "base_uri": "https://localhost:8080/"
    },
    "id": "q3NwyDTgcpLQ",
    "outputId": "b96e9101-33d6-49f3-9889-223465334fd6"
   },
   "outputs": [
    {
     "data": {
      "text/plain": [
       "array([[ True,  True,  True,  True,  True],\n",
       "       [ True,  True,  True,  True,  True],\n",
       "       [ True,  True, False, False, False],\n",
       "       [False, False, False, False, False],\n",
       "       [False, False, False, False, False],\n",
       "       [False, False, False, False, False],\n",
       "       [False, False, False, False, False],\n",
       "       [False, False, False, False, False],\n",
       "       [False, False, False, False, False],\n",
       "       [False, False, False, False, False]])"
      ]
     },
     "execution_count": 129,
     "metadata": {},
     "output_type": "execute_result"
    }
   ],
   "source": [
    "Y = X < 12\n",
    "Y"
   ]
  },
  {
   "cell_type": "code",
   "execution_count": 131,
   "metadata": {
    "colab": {
     "base_uri": "https://localhost:8080/"
    },
    "id": "oOQuytv-cpLQ",
    "outputId": "d8feb871-d815-45f5-c249-459c98bacc73"
   },
   "outputs": [
    {
     "data": {
      "text/plain": [
       "array([ True,  True,  True,  True,  True])"
      ]
     },
     "execution_count": 131,
     "metadata": {},
     "output_type": "execute_result"
    }
   ],
   "source": [
    "np.any(Y, axis=0)   #是否有true"
   ]
  },
  {
   "cell_type": "code",
   "execution_count": 133,
   "metadata": {
    "colab": {
     "base_uri": "https://localhost:8080/"
    },
    "id": "2QdqqgUPcpLQ",
    "outputId": "b08c721d-61f1-47ea-a0f3-e52d53101c3a"
   },
   "outputs": [
    {
     "data": {
      "text/plain": [
       "array([False, False, False, False, False])"
      ]
     },
     "execution_count": 133,
     "metadata": {},
     "output_type": "execute_result"
    }
   ],
   "source": [
    "np.all(Y, axis=0)   #是否全为true"
   ]
  },
  {
   "cell_type": "markdown",
   "metadata": {
    "id": "-_TlOPAncpLQ"
   },
   "source": [
    "All the above functions can be called on the array object directly"
   ]
  },
  {
   "cell_type": "code",
   "execution_count": 136,
   "metadata": {
    "id": "QKWetd2rcpLQ"
   },
   "outputs": [
    {
     "data": {
      "text/plain": [
       "array([45, 46, 47, 48, 49])"
      ]
     },
     "execution_count": 136,
     "metadata": {},
     "output_type": "execute_result"
    }
   ],
   "source": [
    "# instance.method(args) = class.method(instance, args)\n",
    "#X.max(axis=0)\n",
    "np.max(X, axis=0)"
   ]
  },
  {
   "cell_type": "code",
   "execution_count": 139,
   "metadata": {
    "colab": {
     "base_uri": "https://localhost:8080/"
    },
    "id": "soXpCOcWcpLR",
    "outputId": "71dba770-7426-47b1-8f72-9702b69aba1a"
   },
   "outputs": [
    {
     "name": "stdout",
     "output_type": "stream",
     "text": [
      "[0 1 2 3 4 5 6 7 8 9]\n"
     ]
    },
    {
     "data": {
      "text/plain": [
       "array([ 0,  1,  3,  6, 10, 15, 21, 28, 36, 45])"
      ]
     },
     "execution_count": 139,
     "metadata": {},
     "output_type": "execute_result"
    }
   ],
   "source": [
    "# np.cumsum累积和\n",
    "Y = np.arange(10)\n",
    "print(Y)\n",
    "np.cumsum(Y)"
   ]
  },
  {
   "cell_type": "code",
   "execution_count": 140,
   "metadata": {
    "colab": {
     "base_uri": "https://localhost:8080/"
    },
    "id": "OyhUdMg-cpLS",
    "outputId": "9d98fb6a-a014-46f7-8036-a05402ecdf90"
   },
   "outputs": [
    {
     "name": "stdout",
     "output_type": "stream",
     "text": [
      "[[ 0  1  2  3]\n",
      " [ 4  5  6  7]\n",
      " [ 8  9 10 11]\n",
      " [12 13 14 15]]\n"
     ]
    },
    {
     "data": {
      "text/plain": [
       "array([[ 0,  1,  3,  6],\n",
       "       [ 4,  9, 15, 22],\n",
       "       [ 8, 17, 27, 38],\n",
       "       [12, 25, 39, 54]])"
      ]
     },
     "execution_count": 140,
     "metadata": {},
     "output_type": "execute_result"
    }
   ],
   "source": [
    "X = np.arange(16).reshape(4, 4)\n",
    "print(X)\n",
    "np.cumsum(X, axis=1)"
   ]
  },
  {
   "cell_type": "markdown",
   "metadata": {
    "id": "yLszNjIkcpLS"
   },
   "source": [
    "Cumulative operations don't change the shape of the array"
   ]
  },
  {
   "cell_type": "markdown",
   "metadata": {
    "id": "kLuovJTJcpLS"
   },
   "source": [
    "### Exercise (Post Lecture)\n",
    "\n",
    "- Find the column with maximum column sum\n",
    "- For which rows of the matrix, the sum of the first three elements of the row is greater than the sum of the last two elements of the row"
   ]
  },
  {
   "cell_type": "code",
   "execution_count": 150,
   "metadata": {},
   "outputs": [
    {
     "name": "stdout",
     "output_type": "stream",
     "text": [
      "[[ 0  1  2  3  4  5]\n",
      " [10 11 12 13 14 15]\n",
      " [20 21 22 23 24 25]\n",
      " [30 31 32 33 34 35]\n",
      " [40 41 42 43 44 45]\n",
      " [50 51 52 53 54 55]]\n",
      "[[ 5]\n",
      " [15]\n",
      " [25]\n",
      " [35]\n",
      " [45]\n",
      " [55]]\n",
      "(array([1, 2, 3, 4, 5]),)\n"
     ]
    }
   ],
   "source": [
    "print(a)\n",
    "\n",
    "def FindMaxSumColumn(a):\n",
    "    column_sums = a.sum(axis=0)\n",
    "    return a[:, np.argmax(column_sums)].reshape(-1, 1)\n",
    "\n",
    "print(FindMaxSumColumn(a))\n",
    "\n",
    "def FindRow(a):\n",
    "    first_3_sum = a[:, :3].sum(axis=1)\n",
    "    last_2_sum = a[:, -2:].sum(axis=1)\n",
    "    return np.where(first_3_sum > last_2_sum)\n",
    "\n",
    "print(FindRow(a))"
   ]
  },
  {
   "cell_type": "markdown",
   "metadata": {
    "id": "d0nRCLdmcpLT"
   },
   "source": [
    "### Exercise (Post Lecture)\n",
    "Compute the the moving average of the array `y` created below, with window size 5."
   ]
  },
  {
   "cell_type": "code",
   "execution_count": null,
   "metadata": {
    "id": "_lmcNe7ucpLV"
   },
   "outputs": [
    {
     "name": "stdout",
     "output_type": "stream",
     "text": [
      "Requirement already satisfied: matplotlib in /home/cartman/miniconda3/lib/python3.13/site-packages (3.10.6)\n",
      "Requirement already satisfied: contourpy>=1.0.1 in /home/cartman/miniconda3/lib/python3.13/site-packages (from matplotlib) (1.3.3)\n",
      "Requirement already satisfied: cycler>=0.10 in /home/cartman/miniconda3/lib/python3.13/site-packages (from matplotlib) (0.12.1)\n",
      "Requirement already satisfied: fonttools>=4.22.0 in /home/cartman/miniconda3/lib/python3.13/site-packages (from matplotlib) (4.59.2)\n",
      "Requirement already satisfied: kiwisolver>=1.3.1 in /home/cartman/miniconda3/lib/python3.13/site-packages (from matplotlib) (1.4.9)\n",
      "Requirement already satisfied: numpy>=1.23 in /home/cartman/miniconda3/lib/python3.13/site-packages (from matplotlib) (2.3.2)\n",
      "Requirement already satisfied: packaging>=20.0 in /home/cartman/miniconda3/lib/python3.13/site-packages (from matplotlib) (25.0)\n",
      "Requirement already satisfied: pillow>=8 in /home/cartman/miniconda3/lib/python3.13/site-packages (from matplotlib) (11.3.0)\n",
      "Requirement already satisfied: pyparsing>=2.3.1 in /home/cartman/miniconda3/lib/python3.13/site-packages (from matplotlib) (3.2.3)\n",
      "Requirement already satisfied: python-dateutil>=2.7 in /home/cartman/miniconda3/lib/python3.13/site-packages (from matplotlib) (2.9.0.post0)\n",
      "Requirement already satisfied: six>=1.5 in /home/cartman/miniconda3/lib/python3.13/site-packages (from python-dateutil>=2.7->matplotlib) (1.17.0)\n",
      "Note: you may need to restart the kernel to use updated packages.\n"
     ]
    },
    {
     "data": {
      "text/plain": [
       "[<matplotlib.lines.Line2D at 0x76e258b6ed50>]"
      ]
     },
     "execution_count": 151,
     "metadata": {},
     "output_type": "execute_result"
    },
    {
     "data": {
      "image/png": "[encoded data removed]",
      "text/plain": [
       "<Figure size 640x480 with 1 Axes>"
      ]
     },
     "metadata": {},
     "output_type": "display_data"
    }
   ],
   "source": [
    "import numpy as np\n",
    "import matplotlib.pyplot as plt\n",
    "\n",
    "np.random.seed(10)\n",
    "y = np.cumsum(np.random.rand(100) - 0.5)\n",
    "plt.plot(y)"
   ]
  },
  {
   "cell_type": "code",
   "execution_count": null,
   "metadata": {
    "id": "zzs-dYZAcpLW"
   },
   "outputs": [],
   "source": [
    "\n",
    "\n",
    "\n",
    "# plt.plot(y)\n",
    "# plt.plot(z)"
   ]
  },
  {
   "cell_type": "markdown",
   "metadata": {
    "id": "o2s_gqSucpLW"
   },
   "source": [
    "## Final Exercise (Post Lecture)\n",
    "\n",
    "Implement the [Conway's game of Life](https://en.wikipedia.org/wiki/Conway%27s_Game_of_Life) using numpy"
   ]
  },
  {
   "cell_type": "code",
   "execution_count": null,
   "metadata": {
    "id": "_QD_KrJ_cpLX"
   },
   "outputs": [
    {
     "name": "stdout",
     "output_type": "stream",
     "text": [
      "Requirement already satisfied: ipympl in /home/cartman/miniconda3/lib/python3.13/site-packages (0.9.7)\n",
      "Requirement already satisfied: ipython<10 in /home/cartman/miniconda3/lib/python3.13/site-packages (from ipympl) (9.1.0)\n",
      "Requirement already satisfied: ipywidgets<9,>=7.6.0 in /home/cartman/miniconda3/lib/python3.13/site-packages (from ipympl) (8.1.7)\n",
      "Requirement already satisfied: matplotlib<4,>=3.5.0 in /home/cartman/miniconda3/lib/python3.13/site-packages (from ipympl) (3.10.6)\n",
      "Requirement already satisfied: numpy in /home/cartman/miniconda3/lib/python3.13/site-packages (from ipympl) (2.3.2)\n",
      "Requirement already satisfied: pillow in /home/cartman/miniconda3/lib/python3.13/site-packages (from ipympl) (11.3.0)\n",
      "Requirement already satisfied: traitlets<6 in /home/cartman/miniconda3/lib/python3.13/site-packages (from ipympl) (5.14.3)\n",
      "Requirement already satisfied: decorator in /home/cartman/miniconda3/lib/python3.13/site-packages (from ipython<10->ipympl) (5.1.1)\n",
      "Requirement already satisfied: ipython-pygments-lexers in /home/cartman/miniconda3/lib/python3.13/site-packages (from ipython<10->ipympl) (1.1.1)\n",
      "Requirement already satisfied: jedi>=0.16 in /home/cartman/miniconda3/lib/python3.13/site-packages (from ipython<10->ipympl) (0.19.2)\n",
      "Requirement already satisfied: matplotlib-inline in /home/cartman/miniconda3/lib/python3.13/site-packages (from ipython<10->ipympl) (0.1.6)\n",
      "Requirement already satisfied: pexpect>4.3 in /home/cartman/miniconda3/lib/python3.13/site-packages (from ipython<10->ipympl) (4.9.0)\n",
      "Requirement already satisfied: prompt_toolkit<3.1.0,>=3.0.41 in /home/cartman/miniconda3/lib/python3.13/site-packages (from ipython<10->ipympl) (3.0.43)\n",
      "Requirement already satisfied: pygments>=2.4.0 in /home/cartman/miniconda3/lib/python3.13/site-packages (from ipython<10->ipympl) (2.19.1)\n",
      "Requirement already satisfied: stack_data in /home/cartman/miniconda3/lib/python3.13/site-packages (from ipython<10->ipympl) (0.2.0)\n",
      "Requirement already satisfied: comm>=0.1.3 in /home/cartman/miniconda3/lib/python3.13/site-packages (from ipywidgets<9,>=7.6.0->ipympl) (0.2.1)\n",
      "Requirement already satisfied: widgetsnbextension~=4.0.14 in /home/cartman/miniconda3/lib/python3.13/site-packages (from ipywidgets<9,>=7.6.0->ipympl) (4.0.14)\n",
      "Requirement already satisfied: jupyterlab_widgets~=3.0.15 in /home/cartman/miniconda3/lib/python3.13/site-packages (from ipywidgets<9,>=7.6.0->ipympl) (3.0.15)\n",
      "Requirement already satisfied: contourpy>=1.0.1 in /home/cartman/miniconda3/lib/python3.13/site-packages (from matplotlib<4,>=3.5.0->ipympl) (1.3.3)\n",
      "Requirement already satisfied: cycler>=0.10 in /home/cartman/miniconda3/lib/python3.13/site-packages (from matplotlib<4,>=3.5.0->ipympl) (0.12.1)\n",
      "Requirement already satisfied: fonttools>=4.22.0 in /home/cartman/miniconda3/lib/python3.13/site-packages (from matplotlib<4,>=3.5.0->ipympl) (4.59.2)\n",
      "Requirement already satisfied: kiwisolver>=1.3.1 in /home/cartman/miniconda3/lib/python3.13/site-packages (from matplotlib<4,>=3.5.0->ipympl) (1.4.9)\n",
      "Requirement already satisfied: packaging>=20.0 in /home/cartman/miniconda3/lib/python3.13/site-packages (from matplotlib<4,>=3.5.0->ipympl) (25.0)\n",
      "Requirement already satisfied: pyparsing>=2.3.1 in /home/cartman/miniconda3/lib/python3.13/site-packages (from matplotlib<4,>=3.5.0->ipympl) (3.2.3)\n",
      "Requirement already satisfied: python-dateutil>=2.7 in /home/cartman/miniconda3/lib/python3.13/site-packages (from matplotlib<4,>=3.5.0->ipympl) (2.9.0.post0)\n",
      "Requirement already satisfied: wcwidth in /home/cartman/miniconda3/lib/python3.13/site-packages (from prompt_toolkit<3.1.0,>=3.0.41->ipython<10->ipympl) (0.2.13)\n",
      "Requirement already satisfied: parso<0.9.0,>=0.8.4 in /home/cartman/miniconda3/lib/python3.13/site-packages (from jedi>=0.16->ipython<10->ipympl) (0.8.4)\n",
      "Requirement already satisfied: ptyprocess>=0.5 in /home/cartman/miniconda3/lib/python3.13/site-packages (from pexpect>4.3->ipython<10->ipympl) (0.7.0)\n",
      "Requirement already satisfied: six>=1.5 in /home/cartman/miniconda3/lib/python3.13/site-packages (from python-dateutil>=2.7->matplotlib<4,>=3.5.0->ipympl) (1.17.0)\n",
      "Requirement already satisfied: executing in /home/cartman/miniconda3/lib/python3.13/site-packages (from stack_data->ipython<10->ipympl) (0.8.3)\n",
      "Requirement already satisfied: asttokens in /home/cartman/miniconda3/lib/python3.13/site-packages (from stack_data->ipython<10->ipympl) (3.0.0)\n",
      "Requirement already satisfied: pure-eval in /home/cartman/miniconda3/lib/python3.13/site-packages (from stack_data->ipython<10->ipympl) (0.2.2)\n",
      "Note: you may need to restart the kernel to use updated packages.\n"
     ]
    },
    {
     "ename": "RuntimeError",
     "evalue": "'widget' is not a recognised GUI loop or backend name",
     "output_type": "error",
     "traceback": [
      "\u001b[31m---------------------------------------------------------------------------\u001b[39m",
      "\u001b[31mRuntimeError\u001b[39m                              Traceback (most recent call last)",
      "\u001b[36mFile \u001b[39m\u001b[32m~/miniconda3/lib/python3.13/site-packages/matplotlib/backends/registry.py:407\u001b[39m, in \u001b[36mBackendRegistry.resolve_gui_or_backend\u001b[39m\u001b[34m(self, gui_or_backend)\u001b[39m\n\u001b[32m    406\u001b[39m \u001b[38;5;28;01mtry\u001b[39;00m:\n\u001b[32m--> \u001b[39m\u001b[32m407\u001b[39m     \u001b[38;5;28;01mreturn\u001b[39;00m \u001b[38;5;28mself\u001b[39m.resolve_backend(gui_or_backend)\n\u001b[32m    408\u001b[39m \u001b[38;5;28;01mexcept\u001b[39;00m \u001b[38;5;167;01mException\u001b[39;00m:  \u001b[38;5;66;03m# KeyError ?\u001b[39;00m\n",
      "\u001b[36mFile \u001b[39m\u001b[32m~/miniconda3/lib/python3.13/site-packages/matplotlib/backends/registry.py:369\u001b[39m, in \u001b[36mBackendRegistry.resolve_backend\u001b[39m\u001b[34m(self, backend)\u001b[39m\n\u001b[32m    368\u001b[39m \u001b[38;5;28;01mif\u001b[39;00m gui \u001b[38;5;129;01mis\u001b[39;00m \u001b[38;5;28;01mNone\u001b[39;00m:\n\u001b[32m--> \u001b[39m\u001b[32m369\u001b[39m     \u001b[38;5;28;01mraise\u001b[39;00m \u001b[38;5;167;01mRuntimeError\u001b[39;00m(\u001b[33mf\u001b[39m\u001b[33m\"\u001b[39m\u001b[33m'\u001b[39m\u001b[38;5;132;01m{\u001b[39;00mbackend\u001b[38;5;132;01m}\u001b[39;00m\u001b[33m'\u001b[39m\u001b[33m is not a recognised backend name\u001b[39m\u001b[33m\"\u001b[39m)\n\u001b[32m    371\u001b[39m \u001b[38;5;28;01mreturn\u001b[39;00m backend, gui \u001b[38;5;28;01mif\u001b[39;00m gui != \u001b[33m\"\u001b[39m\u001b[33mheadless\u001b[39m\u001b[33m\"\u001b[39m \u001b[38;5;28;01melse\u001b[39;00m \u001b[38;5;28;01mNone\u001b[39;00m\n",
      "\u001b[31mRuntimeError\u001b[39m: 'widget' is not a recognised backend name",
      "\nDuring handling of the above exception, another exception occurred:\n",
      "\u001b[31mRuntimeError\u001b[39m                              Traceback (most recent call last)",
      "\u001b[36mCell\u001b[39m\u001b[36m \u001b[39m\u001b[32mIn[162]\u001b[39m\u001b[32m, line 3\u001b[39m\n\u001b[32m      1\u001b[39m get_ipython().run_line_magic(\u001b[33m'\u001b[39m\u001b[33mpip\u001b[39m\u001b[33m'\u001b[39m, \u001b[33m'\u001b[39m\u001b[33minstall ipympl\u001b[39m\u001b[33m'\u001b[39m)\n\u001b[32m      2\u001b[39m \u001b[38;5;28;01mimport\u001b[39;00m\u001b[38;5;250m \u001b[39m\u001b[34;01mnumpy\u001b[39;00m\u001b[38;5;250m \u001b[39m\u001b[38;5;28;01mas\u001b[39;00m\u001b[38;5;250m \u001b[39m\u001b[34;01mnp\u001b[39;00m\n\u001b[32m----> \u001b[39m\u001b[32m3\u001b[39m get_ipython().run_line_magic(\u001b[33m'\u001b[39m\u001b[33mmatplotlib\u001b[39m\u001b[33m'\u001b[39m, \u001b[33m'\u001b[39m\u001b[33mwidget\u001b[39m\u001b[33m'\u001b[39m)\n\u001b[32m      4\u001b[39m \u001b[38;5;28;01mimport\u001b[39;00m\u001b[38;5;250m \u001b[39m\u001b[34;01mmatplotlib\u001b[39;00m\u001b[34;01m.\u001b[39;00m\u001b[34;01mpyplot\u001b[39;00m\u001b[38;5;250m \u001b[39m\u001b[38;5;28;01mas\u001b[39;00m\u001b[38;5;250m \u001b[39m\u001b[34;01mplt\u001b[39;00m\n\u001b[32m      5\u001b[39m \u001b[38;5;28;01mfrom\u001b[39;00m\u001b[38;5;250m \u001b[39m\u001b[34;01mmatplotlib\u001b[39;00m\u001b[34;01m.\u001b[39;00m\u001b[34;01manimation\u001b[39;00m\u001b[38;5;250m \u001b[39m\u001b[38;5;28;01mimport\u001b[39;00m FuncAnimation\n",
      "\u001b[36mFile \u001b[39m\u001b[32m~/miniconda3/lib/python3.13/site-packages/IPython/core/interactiveshell.py:2486\u001b[39m, in \u001b[36mInteractiveShell.run_line_magic\u001b[39m\u001b[34m(self, magic_name, line, _stack_depth)\u001b[39m\n\u001b[32m   2484\u001b[39m     kwargs[\u001b[33m'\u001b[39m\u001b[33mlocal_ns\u001b[39m\u001b[33m'\u001b[39m] = \u001b[38;5;28mself\u001b[39m.get_local_scope(stack_depth)\n\u001b[32m   2485\u001b[39m \u001b[38;5;28;01mwith\u001b[39;00m \u001b[38;5;28mself\u001b[39m.builtin_trap:\n\u001b[32m-> \u001b[39m\u001b[32m2486\u001b[39m     result = fn(*args, **kwargs)\n\u001b[32m   2488\u001b[39m \u001b[38;5;66;03m# The code below prevents the output from being displayed\u001b[39;00m\n\u001b[32m   2489\u001b[39m \u001b[38;5;66;03m# when using magics with decorator @output_can_be_silenced\u001b[39;00m\n\u001b[32m   2490\u001b[39m \u001b[38;5;66;03m# when the last Python token in the expression is a ';'.\u001b[39;00m\n\u001b[32m   2491\u001b[39m \u001b[38;5;28;01mif\u001b[39;00m \u001b[38;5;28mgetattr\u001b[39m(fn, magic.MAGIC_OUTPUT_CAN_BE_SILENCED, \u001b[38;5;28;01mFalse\u001b[39;00m):\n",
      "\u001b[36mFile \u001b[39m\u001b[32m~/miniconda3/lib/python3.13/site-packages/IPython/core/magics/pylab.py:103\u001b[39m, in \u001b[36mPylabMagics.matplotlib\u001b[39m\u001b[34m(self, line)\u001b[39m\n\u001b[32m     98\u001b[39m     \u001b[38;5;28mprint\u001b[39m(\n\u001b[32m     99\u001b[39m         \u001b[33m\"\u001b[39m\u001b[33mAvailable matplotlib backends: \u001b[39m\u001b[38;5;132;01m%s\u001b[39;00m\u001b[33m\"\u001b[39m\n\u001b[32m    100\u001b[39m         % _list_matplotlib_backends_and_gui_loops()\n\u001b[32m    101\u001b[39m     )\n\u001b[32m    102\u001b[39m \u001b[38;5;28;01melse\u001b[39;00m:\n\u001b[32m--> \u001b[39m\u001b[32m103\u001b[39m     gui, backend = \u001b[38;5;28mself\u001b[39m.shell.enable_matplotlib(args.gui)\n\u001b[32m    104\u001b[39m     \u001b[38;5;28mself\u001b[39m._show_matplotlib_backend(args.gui, backend)\n",
      "\u001b[36mFile \u001b[39m\u001b[32m~/miniconda3/lib/python3.13/site-packages/IPython/core/interactiveshell.py:3755\u001b[39m, in \u001b[36mInteractiveShell.enable_matplotlib\u001b[39m\u001b[34m(self, gui)\u001b[39m\n\u001b[32m   3752\u001b[39m     \u001b[38;5;28;01mimport\u001b[39;00m\u001b[38;5;250m \u001b[39m\u001b[34;01mmatplotlib_inline\u001b[39;00m\u001b[34;01m.\u001b[39;00m\u001b[34;01mbackend_inline\u001b[39;00m\n\u001b[32m   3754\u001b[39m \u001b[38;5;28;01mfrom\u001b[39;00m\u001b[38;5;250m \u001b[39m\u001b[34;01mIPython\u001b[39;00m\u001b[34;01m.\u001b[39;00m\u001b[34;01mcore\u001b[39;00m\u001b[38;5;250m \u001b[39m\u001b[38;5;28;01mimport\u001b[39;00m pylabtools \u001b[38;5;28;01mas\u001b[39;00m pt\n\u001b[32m-> \u001b[39m\u001b[32m3755\u001b[39m gui, backend = pt.find_gui_and_backend(gui, \u001b[38;5;28mself\u001b[39m.pylab_gui_select)\n\u001b[32m   3757\u001b[39m \u001b[38;5;28;01mif\u001b[39;00m gui != \u001b[38;5;28;01mNone\u001b[39;00m:\n\u001b[32m   3758\u001b[39m     \u001b[38;5;66;03m# If we have our first gui selection, store it\u001b[39;00m\n\u001b[32m   3759\u001b[39m     \u001b[38;5;28;01mif\u001b[39;00m \u001b[38;5;28mself\u001b[39m.pylab_gui_select \u001b[38;5;129;01mis\u001b[39;00m \u001b[38;5;28;01mNone\u001b[39;00m:\n",
      "\u001b[36mFile \u001b[39m\u001b[32m~/miniconda3/lib/python3.13/site-packages/IPython/core/pylabtools.py:349\u001b[39m, in \u001b[36mfind_gui_and_backend\u001b[39m\u001b[34m(gui, gui_select)\u001b[39m\n\u001b[32m    347\u001b[39m \u001b[38;5;28;01melse\u001b[39;00m:\n\u001b[32m    348\u001b[39m     gui = _convert_gui_to_matplotlib(gui)\n\u001b[32m--> \u001b[39m\u001b[32m349\u001b[39m     backend, gui = backend_registry.resolve_gui_or_backend(gui)\n\u001b[32m    351\u001b[39m gui = _convert_gui_from_matplotlib(gui)\n\u001b[32m    352\u001b[39m \u001b[38;5;28;01mreturn\u001b[39;00m gui, backend\n",
      "\u001b[36mFile \u001b[39m\u001b[32m~/miniconda3/lib/python3.13/site-packages/matplotlib/backends/registry.py:409\u001b[39m, in \u001b[36mBackendRegistry.resolve_gui_or_backend\u001b[39m\u001b[34m(self, gui_or_backend)\u001b[39m\n\u001b[32m    407\u001b[39m     \u001b[38;5;28;01mreturn\u001b[39;00m \u001b[38;5;28mself\u001b[39m.resolve_backend(gui_or_backend)\n\u001b[32m    408\u001b[39m \u001b[38;5;28;01mexcept\u001b[39;00m \u001b[38;5;167;01mException\u001b[39;00m:  \u001b[38;5;66;03m# KeyError ?\u001b[39;00m\n\u001b[32m--> \u001b[39m\u001b[32m409\u001b[39m     \u001b[38;5;28;01mraise\u001b[39;00m \u001b[38;5;167;01mRuntimeError\u001b[39;00m(\n\u001b[32m    410\u001b[39m         \u001b[33mf\u001b[39m\u001b[33m\"\u001b[39m\u001b[33m'\u001b[39m\u001b[38;5;132;01m{\u001b[39;00mgui_or_backend\u001b[38;5;132;01m}\u001b[39;00m\u001b[33m'\u001b[39m\u001b[33m is not a recognised GUI loop or backend name\u001b[39m\u001b[33m\"\u001b[39m)\n",
      "\u001b[31mRuntimeError\u001b[39m: 'widget' is not a recognised GUI loop or backend name"
     ]
    }
   ],
   "source": [
    "import numpy as np\n",
    "import matplotlib.pyplot as plt\n",
    "from matplotlib.animation import FuncAnimation\n",
    "\n",
    "#随机生成100*100的01矩阵\n",
    "np.random.seed(0)\n",
    "a = np.random.randint(0, 2, size=(100, 100))\n",
    "\n",
    "#Conway's Game of Life迭代过程\n",
    "def ConwayStep(a):\n",
    "    #填充边界\n",
    "    padded = np.pad(a, 1, mode='constant', constant_values=0)\n",
    "\n",
    "    #计算邻居和\n",
    "    neighbor_sum = (padded[:-2, :-2] + padded[:-2, 1:-1] + padded[:-2, 2:] + padded[1:-1, :-2] +\n",
    "                    padded[1:-1, 2:] + padded[2:, :-2] + padded[2:, 1:-1] + padded[2:, 2:])\n",
    "    \n",
    "    #存活邻居小于2或大于3则死亡\n",
    "    a[(neighbor_sum < 2) | (neighbor_sum > 3)] = 0\n",
    "    #存活邻居等于3则复活\n",
    "    a[neighbor_sum == 3] = 1\n",
    "\n",
    "    return a\n",
    "\n",
    "# 可视化部分\n",
    "fig, ax = plt.subplots()\n",
    "im = ax.imshow(a, cmap='gray', vmin=0, vmax=1)  # 0为白色，1为黑色\n",
    "\n",
    "def update(frame):\n",
    "    ConwayStep(a)\n",
    "    im.set_data(a)\n",
    "    return [im]\n",
    "\n",
    "ani = FuncAnimation(fig, update, frames=100, interval=200, blit=True)\n",
    "ani.save('conway_game_of_life.gif', writer='pillow')\n",
    "plt.show()"
   ]
  }
 ],
 "metadata": {
  "colab": {
   "provenance": [],
   "toc_visible": true
  },
  "kernelspec": {
   "display_name": "base",
   "language": "python",
   "name": "python3"
  },
  "language_info": {
   "codemirror_mode": {
    "name": "ipython",
    "version": 3
   },
   "file_extension": ".py",
   "mimetype": "text/x-python",
   "name": "python",
   "nbconvert_exporter": "python",
   "pygments_lexer": "ipython3",
   "version": "3.13.5"
  }
 },
 "nbformat": 4,
 "nbformat_minor": 0
}
